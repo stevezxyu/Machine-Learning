{
 "cells": [
  {
   "cell_type": "code",
   "execution_count": 7,
   "metadata": {
    "scrolled": true
   },
   "outputs": [
    {
     "name": "stdout",
     "output_type": "stream",
     "text": [
      "[2 0 1 1 1 1 1 0 0 1 2 0 0 0 0 0 0 2 0 1 2 0 1 2 1 2 1 0 0 2 0 2 0 1 2 0 0\n",
      " 2 2 1 0 1 1 0 2]\n",
      "[2 0 1 1 1 1 1 0 0 1 1 0 0 0 0 0 0 1 0 1 2 0 1 2 1 2 1 0 0 2 0 2 0 1 2 0 0\n",
      " 2 2 1 0 1 1 0 2]\n"
     ]
    }
   ],
   "source": [
    "import numpy as np\n",
    "from sklearn import datasets\n",
    "from sklearn.cross_validation import train_test_split\n",
    "from sklearn.neighbors import KNeighborsClassifier\n",
    "\n",
    "iris = datasets.load_iris()\n",
    "iris_X = iris.data\n",
    "iris_y = iris.target\n",
    "\n",
    "# print(iris_X[:2,:])\n",
    "# print(iris_y)\n",
    "\n",
    "X_train, X_test, y_train, y_test = train_test_split(\n",
    "    iris_X, iris_y, test_size = 0.3)\n",
    "\n",
    "# print(y_train)\n",
    "\n",
    "knn = KNeighborsClassifier()\n",
    "knn.fit(X_train, y_train)    # 把 data放進去 fit\n",
    "print(knn.predict(X_test))   # 已 trainnig 完成, 看是哪一種花\n",
    "print(y_test)                # 對比花的種類"
   ]
  },
  {
   "cell_type": "code",
   "execution_count": 1,
   "metadata": {
    "scrolled": true
   },
   "outputs": [
    {
     "name": "stdout",
     "output_type": "stream",
     "text": [
      "[ 27.94288232  25.25940048  23.00433994  19.5347558   11.51696539\n",
      "  18.91981483  18.9958266   21.58970854  20.90534851  19.55535931\n",
      "  19.2837957   19.30000174  20.52889993  16.9096749   16.17067411\n",
      "  18.40781636  12.52040454  17.67104565  15.82934891  13.80368317\n",
      "  15.67708138  13.3791645   15.46258829  14.69863607  19.54518512\n",
      "  20.87309945  11.44806825  18.05900412   8.78841666  14.27882319\n",
      "  13.69097132  23.81755469  22.34216285  23.11123204  22.91494157\n",
      "  31.35826216  34.21485385  28.0207132   25.20646572  24.61192851\n",
      "  22.94438953  22.10150945  20.42467417  18.03614022   9.10176198\n",
      "  17.20856571  21.28259372  23.97621248  27.65853521  24.0521088\n",
      "  15.35989132  31.14817003  24.85878746  33.11017111  21.77458036\n",
      "  21.08526739  17.87203538  18.50881381  23.9879809   22.54944098\n",
      "  23.37068403  30.36557584  25.53407332  21.11758504  17.42468223\n",
      "  20.7893086   25.20349174  21.74490595  24.56275612  24.04479519\n",
      "  25.5091157   23.97076758  22.94823519  23.36106095  21.26432549\n",
      "  22.4345376   28.40699937  26.99734716  26.03807246  25.06152125\n",
      "  24.7858613   27.79291889  22.16927073  25.89685664  30.67771522\n",
      "  30.83225886  27.12127354  27.41597825  28.9456478   29.08668003\n",
      "  27.04501726  28.62506705  24.73038218  35.78062378  35.11269515\n",
      "  32.25115468  24.57946786  25.59386215  19.76439137  20.31157117\n",
      "  21.4353635   18.53971968  17.18572611  20.74934949  22.64791346\n",
      "  19.77000977  20.64745349  26.52652691  20.77440554  20.71546432\n",
      "  25.17461484  20.4273652   23.37862521  23.69454145  20.33202239\n",
      "  20.79378139  21.92024414  22.47432006  20.55884635  16.36300764\n",
      "  20.56342111  22.48570454  14.61264839  15.1802607   18.93828443\n",
      "  14.0574955   20.03651959  19.41306288  20.06401034  15.76005772\n",
      "  13.24771577  17.26167729  15.87759672  19.36145104  13.81270814\n",
      "  16.44782934  13.56511101   3.98343974  14.59241207  12.14503093\n",
      "   8.72407108  12.00815659  15.80308586   8.50963929   9.70965512\n",
      "  14.79848067  20.83598096  18.30017013  20.12575267  17.27585681\n",
      "  22.35997992  20.07985184  13.59903744  33.26635221  29.03938379\n",
      "  25.56694529  32.71732164  36.78111388  40.56615533  41.85122271\n",
      "  24.79875684  25.3771545   37.20662185  23.08244608  26.40326834\n",
      "  26.65647433  22.55412919  24.2970948   22.98024802  29.07488389\n",
      "  26.52620066  30.72351225  25.61835359  29.14203283  31.43690634\n",
      "  32.9232938   34.72096487  27.76792733  33.88992899  30.99725805\n",
      "  22.72124288  24.76567683  35.88131719  33.42696242  32.41513625\n",
      "  34.51611818  30.76057666  30.29169893  32.92040221  32.11459912\n",
      "  31.56133385  40.84274603  36.13046343  32.66639271  34.70558647\n",
      "  30.09276228  30.64139724  29.29189704  37.07062623  42.02879611\n",
      "  43.18582722  22.6923888   23.68420569  17.85435295  23.49543857\n",
      "  17.00872418  22.39535066  17.06152243  22.74106824  25.21974252\n",
      "  11.10601161  24.51300617  26.60749026  28.35802444  24.91860458\n",
      "  29.69254951  33.18492755  23.77145523  32.14086508  29.74802362\n",
      "  38.36605632  39.80716458  37.58362546  32.39769704  35.45048257\n",
      "  31.23446481  24.48478321  33.28615723  38.04368164  37.15737267\n",
      "  31.71297469  25.26658017  30.101515    32.71897655  28.42735376\n",
      "  28.42999168  27.2913215   23.74446671  24.11878941  27.40241209\n",
      "  16.32993575  13.39695213  20.01655581  19.86205904  21.28604604\n",
      "  24.07796482  24.20603792  25.04201534  24.91709097  29.93762975\n",
      "  23.97709054  21.69931969  37.51051381  43.29459357  36.48121427\n",
      "  34.99129701  34.80865729  37.16296374  40.9823638   34.44211691\n",
      "  35.83178068  28.24913647  31.22022312  40.83256202  39.31768808\n",
      "  25.71099424  22.30344878  27.20551341  28.51386352  35.47494122\n",
      "  36.11110647  33.80004807  35.61141951  34.84311742  30.35359323\n",
      "  35.31260262  38.79684808  34.33296541  40.34038636  44.67339923\n",
      "  31.5955473   27.35994642  20.09520596  27.04518524  27.21674397\n",
      "  26.91105226  33.43602979  34.40228785  31.83374181  25.82416035\n",
      "  24.43687139  28.46348891  27.36916176  19.54441878  29.11480679\n",
      "  31.90852699  30.77325183  28.9430835   28.88108106  32.79876794\n",
      "  33.20356949  30.76568546  35.55843485  32.70725436  28.64759861\n",
      "  23.59388439  18.5461558   26.88429024  23.28485442  25.55002201\n",
      "  25.48337323  20.54343769  17.61406384  18.37627933  24.29187594\n",
      "  21.3257202   24.88826131  24.87143049  22.87255605  19.4540234\n",
      "  25.11948741  24.66816374  23.68209656  19.33951725  21.17636041\n",
      "  24.25306588  21.59311197  19.98766667  23.34079584  22.13973959\n",
      "  21.55349196  20.61808868  20.1607571   19.28455466  22.16593919\n",
      "  21.24893735  21.42985456  30.32874523  22.04915396  27.70610125\n",
      "  28.54595004  16.54657063  14.78278261  25.27336772  27.54088054\n",
      "  22.14633467  20.46081206  20.54472332  16.88194391  25.40066956\n",
      "  14.32299547  16.5927403   19.63224597  22.7117302   22.19946949\n",
      "  19.1989151   22.66091019  18.92059374  18.22715359  20.22444386\n",
      "  37.47946099  14.29172583  15.53697148  10.82825817  23.81134987\n",
      "  32.64787163  34.61163401  24.94604102  26.00259724   6.12085728\n",
      "   0.78021126  25.311373    17.73465914  20.22593282  15.83834861\n",
      "  16.83742401  14.43123608  18.47647773  13.42427933  13.05677824\n",
      "   3.27646485   8.05936467   6.13903114   5.62271213   6.44935154\n",
      "  14.20597451  17.21022671  17.29035065   9.89064351  20.21972222\n",
      "  17.94511052  20.30017588  19.28790318  16.33300008   6.56843662\n",
      "  10.87541577  11.88704097  17.81098929  18.25461066  12.99282707\n",
      "   7.39319053   8.25609561   8.07899971  19.98563715  13.69651744\n",
      "  19.83511412  15.2345378   16.93112419   1.69347406  11.81116263\n",
      "  -4.28300934   9.55007844  13.32635521   6.88351077   6.16827417\n",
      "  14.56933235  19.59292932  18.1151686   18.52011987  13.13707457\n",
      "  14.59662601   9.8923749   16.31998048  14.06750301  14.22573568\n",
      "  13.00752251  18.13277547  18.66645496  21.50283795  17.00039379\n",
      "  15.93926602  13.32952716  14.48949211   8.78366731   4.8300317\n",
      "  13.06115528  12.71101472  17.2887624   18.73424906  18.05271013\n",
      "  11.49855612  13.00841512  17.66975577  18.12342294  17.51503231\n",
      "  17.21307203  16.48238543  19.40079737  18.57392951  22.47833186\n",
      "  15.24179836  15.78327609  12.64853778  12.84121049  17.17173661\n",
      "  18.50906858  19.02803874  20.16441773  19.76975335  22.42614937\n",
      "  20.31750314  17.87618837  14.3391341   16.93715603  16.98716629\n",
      "  18.59431701  20.16395155  22.97743546  22.45110639  25.5707207\n",
      "  16.39091112  16.09765427  20.52835689  11.5429045   19.20387482\n",
      "  21.86820603  23.47052203  27.10034494  28.57064813  21.0839881\n",
      "  19.4490529   22.2189221   19.65423066  21.324671    11.86231364\n",
      "   8.22260592   3.65825168  13.76275951  15.93780944  20.62730097\n",
      "  20.61035443  16.88048035  14.01017244  19.10825534  21.29720741\n",
      "  18.45524217  20.46764235  23.53261729  22.37869798  27.62934247\n",
      "  26.12983844  22.34870269]\n",
      "[ 24.   21.6  34.7  33.4]\n"
     ]
    }
   ],
   "source": [
    "from sklearn import datasets\n",
    "from sklearn.linear_model import LinearRegression  # 使用線性回歸\n",
    "\n",
    "loaded_data = datasets.load_boston()\n",
    "data_X = loaded_data.data\n",
    "data_y = loaded_data.target    # target 是 levels\n",
    "\n",
    "model = LinearRegression()\n",
    "model.fit(data_X, data_y)      # 放入 fit\n",
    "\n",
    "print(model.predict(data_X[4:]))  # 預測值\n",
    "print(data_y[:4])                 # 對比真實值"
   ]
  },
  {
   "cell_type": "code",
   "execution_count": 4,
   "metadata": {},
   "outputs": [
    {
     "data": {
      "image/png": "[encoded data removed]",
      "text/plain": [
       "<matplotlib.figure.Figure at 0x26aed7dc940>"
      ]
     },
     "metadata": {},
     "output_type": "display_data"
    }
   ],
   "source": [
    "from sklearn import datasets\n",
    "from sklearn.linear_model import LinearRegression  # 使用線性回歸\n",
    "import matplotlib.pyplot as plt\n",
    "\n",
    "X,y = datasets.make_regression(n_samples=100, n_features=1, n_targets=1,noise=10)\n",
    "# 在資料集用, 使用線性迴歸\n",
    "\n",
    "plt.scatter(X, y)     # 跑散佈圖\n",
    "plt.show()"
   ]
  },
  {
   "cell_type": "code",
   "execution_count": 11,
   "metadata": {},
   "outputs": [
    {
     "name": "stdout",
     "output_type": "stream",
     "text": [
      "0.740607742865\n"
     ]
    }
   ],
   "source": [
    "from sklearn import datasets\n",
    "from sklearn.linear_model import LinearRegression  # 使用線性回歸\n",
    "\n",
    "loaded_data = datasets.load_boston()\n",
    "data_X = loaded_data.data\n",
    "data_y = loaded_data.target    # target 是 levels\n",
    "\n",
    "model = LinearRegression()\n",
    "model.fit(data_X, data_y)      # 放入 fit\n",
    "\n",
    "# print(model.predict(data_X[4:])) \n",
    "# print(model.coef_)             # y = 0.1x + 0.3\n",
    "# print(model.intercept_)\n",
    "# print(model.get_params())        # 查看參數值的 Boolean\n",
    "print(model.score(data_X, data_y))   # R^2 coefficient of determination"
   ]
  }
 ],
 "metadata": {
  "kernelspec": {
   "display_name": "Python 3",
   "language": "python",
   "name": "python3"
  },
  "language_info": {
   "codemirror_mode": {
    "name": "ipython",
    "version": 3
   },
   "file_extension": ".py",
   "mimetype": "text/x-python",
   "name": "python",
   "nbconvert_exporter": "python",
   "pygments_lexer": "ipython3",
   "version": "3.6.1"
  }
 },
 "nbformat": 4,
 "nbformat_minor": 2
}
