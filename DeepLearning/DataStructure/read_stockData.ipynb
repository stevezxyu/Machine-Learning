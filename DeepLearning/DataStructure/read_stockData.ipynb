{
 "cells": [
  {
   "cell_type": "code",
   "execution_count": 4,
   "metadata": {},
   "outputs": [
    {
     "name": "stdout",
     "output_type": "stream",
     "text": [
      "Empty DataFrame\n",
      "Columns: [日期, 成交股數, 成交金額, 開盤價, 最高價, 最低價, 收盤價, 漲跌價差, 成交筆數]\n",
      "Index: []\n",
      "Empty DataFrame\n",
      "Columns: [日期, 成交股數, 成交金額, 開盤價, 最高價, 最低價, 收盤價, 漲跌價差, 成交筆數]\n",
      "Index: []\n"
     ]
    }
   ],
   "source": [
    "'''\n",
    "讀取股價資料\n",
    "'''\n",
    "\n",
    "import numpy as np\n",
    "import pandas as pd\n",
    "\n",
    "# 讀取 csv檔案內容的資料\n",
    "df2 = pd.read_csv('C:/Users/Zhong-Xun Yu/py_4_ds/dataStructure/2018_2330.csv', encoding='big5',\n",
    "                 error_bad_lines=False, header=None, names=[\"日期\", \"成交股數\", \"成交金額\", \"開盤價\"\n",
    "                                                           , \"最高價\", \"最低價\", \"收盤價\", \"漲跌價差\", \"成交筆數\"])\n",
    "print(df2)\n",
    "df=pd.DataFrame(df2)\n",
    "print(df.iloc[:5])"
   ]
  },
  {
   "cell_type": "code",
   "execution_count": null,
   "metadata": {
    "collapsed": true
   },
   "outputs": [],
   "source": []
  }
 ],
 "metadata": {
  "kernelspec": {
   "display_name": "Python 3",
   "language": "python",
   "name": "python3"
  },
  "language_info": {
   "codemirror_mode": {
    "name": "ipython",
    "version": 3
   },
   "file_extension": ".py",
   "mimetype": "text/x-python",
   "name": "python",
   "nbconvert_exporter": "python",
   "pygments_lexer": "ipython3",
   "version": "3.6.3"
  }
 },
 "nbformat": 4,
 "nbformat_minor": 2
}
