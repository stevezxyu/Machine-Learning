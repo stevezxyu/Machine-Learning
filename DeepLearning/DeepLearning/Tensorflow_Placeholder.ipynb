{
 "cells": [
  {
   "cell_type": "code",
   "execution_count": 2,
   "metadata": {
    "collapsed": true
   },
   "outputs": [],
   "source": [
    "'''\n",
    "容器 Placeholder\n",
    "'''\n",
    "# 範例ㄧ\n",
    "import tensorflow as tf\n",
    "x=tf.placeholder(tf.float32)     # Placeholder 是裝置 tensor張量的容器\n",
    "y=tf.placeholder(tf.float32)\n",
    "z=tf.add(x,y)"
   ]
  },
  {
   "cell_type": "code",
   "execution_count": 3,
   "metadata": {},
   "outputs": [
    {
     "name": "stdout",
     "output_type": "stream",
     "text": [
      "7.6\n"
     ]
    }
   ],
   "source": [
    "with tf.Session() as sess:\n",
    "    print(sess.run(z, feed_dict={x:5.5, y:2.1}))"
   ]
  },
  {
   "cell_type": "code",
   "execution_count": 6,
   "metadata": {
    "collapsed": true
   },
   "outputs": [],
   "source": [
    "# 範例二\n",
    "xx=tf.placeholder(tf.float32)\n",
    "Wi=tf.Variable([0.8], dtype=tf.float32)  # 權重 weight\n",
    "b=tf.Variable([-0.8], dtype=tf.float32)  # 偏差 bias"
   ]
  },
  {
   "cell_type": "code",
   "execution_count": 7,
   "metadata": {
    "collapsed": true
   },
   "outputs": [],
   "source": [
    "LinearModel=Wi*xx+b"
   ]
  },
  {
   "cell_type": "code",
   "execution_count": 9,
   "metadata": {
    "collapsed": true
   },
   "outputs": [],
   "source": [
    "sess=tf.Session()    # 會談\n",
    "sess.run(tf.global_variables_initializer())    # 初始化"
   ]
  },
  {
   "cell_type": "code",
   "execution_count": 13,
   "metadata": {},
   "outputs": [
    {
     "name": "stdout",
     "output_type": "stream",
     "text": [
      "[ 3.20000005  4.          4.79999971  5.5999999   6.4000001 ]\n"
     ]
    }
   ],
   "source": [
    "print(sess.run(LinearModel, {xx:[5,6,7,8,9]}))"
   ]
  },
  {
   "cell_type": "code",
   "execution_count": 14,
   "metadata": {
    "collapsed": true
   },
   "outputs": [],
   "source": [
    "yy=tf.placeholder(tf.float32)"
   ]
  },
  {
   "cell_type": "code",
   "execution_count": 18,
   "metadata": {
    "collapsed": true
   },
   "outputs": [],
   "source": [
    "s_delta = tf.square(LinearModel - yy)    # 變動值\n",
    "cost = tf.reduce_sum(s_delta)    # 平方和加總是成本函數"
   ]
  },
  {
   "cell_type": "code",
   "execution_count": 19,
   "metadata": {},
   "outputs": [
    {
     "name": "stdout",
     "output_type": "stream",
     "text": [
      "336.6\n"
     ]
    }
   ],
   "source": [
    "print(sess.run(cost, {xx:[5,6,7,8,9], yy:[-1,-2,-3,-4,-5]}))    # 成本函數"
   ]
  },
  {
   "cell_type": "code",
   "execution_count": 21,
   "metadata": {},
   "outputs": [
    {
     "name": "stdout",
     "output_type": "stream",
     "text": [
      "2.5\n"
     ]
    }
   ],
   "source": [
    "f_Wi = tf.assign(Wi, [-0.5])   # 修正 Wi值\n",
    "f_b = tf.assign(b, [0.5])      # 修正 b值\n",
    "sess.run([f_Wi, f_b])          # 執行這兩個值\n",
    "print(sess.run(cost, {xx:[5,6,7,8,9], yy:[-1,-2,-3,-4,-5]}))    # 修改後的 Wi和 b的值來執行成本函數"
   ]
  }
 ],
 "metadata": {
  "kernelspec": {
   "display_name": "Python 3",
   "language": "python",
   "name": "python3"
  },
  "language_info": {
   "codemirror_mode": {
    "name": "ipython",
    "version": 3
   },
   "file_extension": ".py",
   "mimetype": "text/x-python",
   "name": "python",
   "nbconvert_exporter": "python",
   "pygments_lexer": "ipython3",
   "version": "3.6.3"
  }
 },
 "nbformat": 4,
 "nbformat_minor": 2
}
