{
 "cells": [
  {
   "cell_type": "code",
   "execution_count": 4,
   "metadata": {
    "collapsed": true
   },
   "outputs": [],
   "source": [
    "# 一組字典(dict)資料\n",
    "users = [\n",
    "    { \"id\": 0, \"name\": \"Hero\" },\n",
    "    { \"id\": 1, \"name\": \"Dunn\" },\n",
    "    { \"id\": 2, \"name\": \"Sue\" },\n",
    "    { \"id\": 3, \"name\": \"Chi\" },\n",
    "    { \"id\": 4, \"name\": \"Thor\" },\n",
    "    { \"id\": 5, \"name\": \"Clive\" },\n",
    "    { \"id\": 6, \"name\": \"Hicks\" },\n",
    "    { \"id\": 7, \"name\": \"Devin\" },\n",
    "    { \"id\": 8, \"name\": \"Kate\" },\n",
    "    { \"id\": 9, \"name\": \"Klein\" }\n",
    "]\n",
    "\n",
    "# ( , ) 為一個元組(tuple)\n",
    "friendships = [(0,1), (0,2), (1,2), (1,3), (2,3), (3,4),\n",
    "           (4,5), (5,6), (5,7), (6,8), (7,8), (8,9)]\n",
    "\n",
    "# friends 的屬性對應一個空的 list\n",
    "for user in users:\n",
    "    user[\"friends\"] = []\n",
    "    \n",
    "for i, j in friendships:\n",
    "    # users[i]就是 id編號為 i 的使用者\n",
    "    users[i][\"friends\"].append(users[j])  # 把 j 添加為 i 的朋友\n",
    "    users[j][\"friends\"].append(users[i])  # 把 i 添加為 j 的朋友"
   ]
  },
  {
   "cell_type": "code",
   "execution_count": 5,
   "metadata": {
    "collapsed": true
   },
   "outputs": [],
   "source": [
    "# 把每個人的朋友數量加總，計算總數量\n",
    "def number_of_friends(user):\n",
    "    '''每個 user有幾個朋友?'''\n",
    "    return len(user[\"friends\"])                     # 鍵值 friends 所對應的列表長度，\n",
    "                                                    # 就是朋友的數量\n",
    "total_connections = sum(number_of_friends(user)\n",
    "                       for user in users)           # 24\n",
    "\n",
    "# 再除以使用者的總數量\n",
    "from __future__ import division                     # 預設情況下沒有變數除法的功能\n",
    "                                                    # 因此要額外導入\n",
    "num_users = len(users)                              # users 列表的長度 ; 也就是使用者\n",
    "                                                    # 的數量\n",
    "avg_connections = total_connections / num_users     # 2.4"
   ]
  },
  {
   "cell_type": "code",
   "execution_count": 8,
   "metadata": {},
   "outputs": [
    {
     "ename": "SyntaxError",
     "evalue": "invalid syntax (<ipython-input-8-6c28865bf810>, line 6)",
     "output_type": "error",
     "traceback": [
      "\u001b[1;36m  File \u001b[1;32m\"<ipython-input-8-6c28865bf810>\"\u001b[1;36m, line \u001b[1;32m6\u001b[0m\n\u001b[1;33m    key = lambda (user_id, num_friends): num_friends,     # 根據朋友的數量\u001b[0m\n\u001b[1;37m                 ^\u001b[0m\n\u001b[1;31mSyntaxError\u001b[0m\u001b[1;31m:\u001b[0m invalid syntax\n"
     ]
    }
   ],
   "source": [
    "# 建立一個列表 (使用者編號 , 朋友數量 )\n",
    "num_friends_by_id = [(user[\"id\"], number_of_friends(user))\n",
    "                    for user in users]\n",
    "\n",
    "sorted(num_friends_by_id,                                   # 進行排序\n",
    "      key = lambda (user_id, num_friends): num_friends,     # 根據朋友的數量\n",
    "      reverse = True)                                       # 從最多排到最少\n",
    "\n",
    "# 每一對資料都是 (使用者編號 , 朋友數量 )\n",
    "# [(1,3), (2,3), (3,3), (5,3), (8,3),\n",
    "# (0,2), (4,2), (6,2), (7, 2), (9,1)]\n",
    "# 作分支中心度"
   ]
  },
  {
   "cell_type": "code",
   "execution_count": 9,
   "metadata": {},
   "outputs": [
    {
     "name": "stdout",
     "output_type": "stream",
     "text": [
      "[1, 2]\n",
      "[0, 2, 3]\n",
      "[0, 1, 3]\n"
     ]
    }
   ],
   "source": [
    "def friends_of_friend_ids_bad(user):\n",
    "    # \"foaf\" 就是 \"friend of a friend\" (朋友的朋友) 的縮寫\n",
    "    return [foaf[\"id\"]\n",
    "           for friend in user[\"friends\"]      # 針對使用者的每一位朋友\n",
    "           for foaf in friend[\"friends\"]]     # 取得這些朋友們的每一位朋友\n",
    "\n",
    "print([friend[\"id\"] for friend in users[0][\"friends\"]])     # [1, 2]\n",
    "print([friend[\"id\"] for friend in users[1][\"friends\"]])     # [0, 2, 3]\n",
    "print([friend[\"id\"] for friend in users[2][\"friends\"]])     # [0, 1, 3]"
   ]
  },
  {
   "cell_type": "code",
   "execution_count": 10,
   "metadata": {},
   "outputs": [
    {
     "name": "stdout",
     "output_type": "stream",
     "text": [
      "Counter({0: 2, 5: 1})\n"
     ]
    }
   ],
   "source": [
    "# 排除使用者原本就認識的人\n",
    "from collections import Counter\n",
    "\n",
    "def not_the_same(user, other_user):\n",
    "    '''如果兩個使用者id編號不同，就不是同一個使用者'''\n",
    "    return user[\"id\"] != other_user[\"id\"]\n",
    "\n",
    "def not_friends(user, other_user):\n",
    "    '''如果other_user不在user[\"friends\"]裡頭，他就不是朋友 ; \n",
    "    也就是說，他和user[\"friends\"]裡的所有人都 not_the_same(不是同一個使用者)'''\n",
    "    return all(not_the_same(friend, other_user)\n",
    "              for friend in user[\"friends\"])\n",
    "\n",
    "def friends_of_friend_ids(user):\n",
    "    return Counter(foaf[\"id\"]\n",
    "                  for friend in user[\"friends\"]     # 針對我所有的朋友 \n",
    "                  for foaf in friend[\"friends\"]     # 計算「他們的」朋友\n",
    "                  if not_the_same(user, foaf)       # 既不是我自己\n",
    "                  and not_friends(user, foaf))      # 也不是我原本就認識的朋友\n",
    "\n",
    "print(friends_of_friend_ids(users[3]))              # Counter({0: 2, 5: 1})"
   ]
  },
  {
   "cell_type": "code",
   "execution_count": 11,
   "metadata": {
    "collapsed": true
   },
   "outputs": [],
   "source": [
    "interests = [\n",
    "    (0, \"Hadoop\"), (0, \"Big Data\"), (0, \"HBase\"), (0, \"Java\"), \n",
    "    (0, \"Spark\"), (0, \"Storm\"), (0, \"Cassandra\"), \n",
    "    (1, \"NoSQL\"), (1, \"MongoDB\"), (1, \"Cassandra\"), (1, \"HBase\"), \n",
    "    (1, \"Postgres\"), (2, \"Python\"), (2, \"scikit-learn\"), (2, \"scipy\"), \n",
    "    (2, \"numpy\"), (2, \"statsmodels\"), (2, \"pandas\"), (3, \"R\"), (3, \"Python\"), \n",
    "    (3, \"statistics\"), (3, \"regression\"), (3, \"probability\"), \n",
    "    (4, \"machine learning\"), (4, \"regression\"), (4, \"decision trees\"), \n",
    "    (4, \"libsvm\"), (5, \"Python\"), (5, \"R\"), (5, \"Java\"), (5, \"C++\"),\n",
    "    (5, \"Haskell\"), (5, \"programming languages\"), (6, \"statistics\"), \n",
    "    (6, \"probability\"), (6, \"mathematics\"), (6, \"theory\"), \n",
    "    (7, \"machine learning\"), (7, \"scikit-learn\"), (7, \"Mahout\"), \n",
    "    (7, \"neural networks\"), (8, \"neural networks\"), (8, \"deep learning\"), \n",
    "    (8, \"Big Data\"), (8, \"artificial intelligence\"), (9, \"Hadoop\"),\n",
    "    (9, \"Java\"), (9, \"MapReduce\"), (9, \"Big Data\")\n",
    "]\n",
    "\n",
    "# 建立共同興趣的函式\n",
    "def data_scientists_who_like(target_interest):\n",
    "    return [user_id\n",
    "           for user_id, user_interest in interests\n",
    "           if user_interest == target_interest]"
   ]
  },
  {
   "cell_type": "code",
   "execution_count": 14,
   "metadata": {},
   "outputs": [
    {
     "ename": "IndentationError",
     "evalue": "expected an indented block (<ipython-input-14-01819ffa1f50>, line 19)",
     "output_type": "error",
     "traceback": [
      "\u001b[1;36m  File \u001b[1;32m\"<ipython-input-14-01819ffa1f50>\"\u001b[1;36m, line \u001b[1;32m19\u001b[0m\n\u001b[1;33m    for interested_user_id in user_ids_by_interest[interest]:\u001b[0m\n\u001b[1;37m      ^\u001b[0m\n\u001b[1;31mIndentationError\u001b[0m\u001b[1;31m:\u001b[0m expected an indented block\n"
     ]
    }
   ],
   "source": [
    "# 興趣對應到使用者的索引\n",
    "from collections import defaultdict\n",
    "\n",
    "# 鍵值是 interest (興趣)，值則是具有該興趣的使用者編號列表\n",
    "user_ids_by_interest = defaultdict(list)\n",
    "\n",
    "for user_id, interest in interests:\n",
    "    user_ids_by_interest[interest].append(user_id)\n",
    "\n",
    "# 使用者對應到興趣的索引\n",
    "# 鍵值是 user_id (使用者編號)，值則是該使用者的興趣列表\n",
    "interests_by_user_id = defaultdict(list)\n",
    "for user_id, interest in interests:\n",
    "    interests_by_user_id[user_id].append(interest)\n",
    "    \n",
    "# 找出共同興趣\n",
    "def most_commmon_interests_with(user):\n",
    "    for interest in interests_by_user_id[user[\"id\"]]:\n",
    "    for interested_user_id in user_ids_by_interest[interest]:\n",
    "    if interested_user_id != user[\"id\"]"
   ]
  },
  {
   "cell_type": "code",
   "execution_count": 24,
   "metadata": {},
   "outputs": [
    {
     "name": "stdout",
     "output_type": "stream",
     "text": [
      "[(48000, 0.7), (48000, 1.9), (60000, 2.5), (63000, 4.2), (69000, 6.5), (76000, 6), (76000, 7.5), (83000, 8.7), (83000, 10), (88000, 8.1)]\n",
      "[0.7, 1.9, 2.5, 4.2, 6, 6.5, 7.5, 8.1, 8.7, 10]\n"
     ]
    }
   ],
   "source": [
    "from collections import defaultdict\n",
    "\n",
    "salaries_and_tenures = [ (83000, 8.7), (88000, 8.1),\n",
    "                        (48000, 0.7), (76000, 6),\n",
    "                        (69000, 6.5), (76000, 7.5),\n",
    "                        (60000, 2.5), (83000, 10),\n",
    "                        (48000, 1.9), (63000, 4.2) ]\n",
    "\n",
    "# 鍵值是 tenure(年資)，值則是每個年資對應到的薪水列表\n",
    "salary_by_tenure = defaultdict(list)\n",
    "\n",
    "for salary, tenure in salaries_and_tenures:\n",
    "    salary_by_tenure[tenure].append(salary)\n",
    "    \n",
    "# 鍵值是 tenure(年資)，值則是相應年資所對應到的平均薪水\n",
    "average_salary_by_tenure = {\n",
    "    tenure : sum(salaries) / len(salaries)\n",
    "    for tenure, salaries in salary_by_tenure.items()\n",
    "}\n",
    "\n",
    "print(sorted(salaries_and_tenures))\n",
    "print(sorted(salary_by_tenure))"
   ]
  },
  {
   "cell_type": "code",
   "execution_count": 29,
   "metadata": {},
   "outputs": [
    {
     "ename": "AttributeError",
     "evalue": "'collections.defaultdict' object has no attribute 'iteritems'",
     "output_type": "error",
     "traceback": [
      "\u001b[1;31m---------------------------------------------------------------------------\u001b[0m",
      "\u001b[1;31mAttributeError\u001b[0m                            Traceback (most recent call last)",
      "\u001b[1;32m<ipython-input-29-6664c3f87701>\u001b[0m in \u001b[0;36m<module>\u001b[1;34m()\u001b[0m\n\u001b[0;32m     17\u001b[0m average_salary_by_bucket = {\n\u001b[0;32m     18\u001b[0m     \u001b[0mtenure_bucket\u001b[0m \u001b[1;33m:\u001b[0m \u001b[0msum\u001b[0m\u001b[1;33m(\u001b[0m\u001b[0msalaries\u001b[0m\u001b[1;33m)\u001b[0m \u001b[1;33m/\u001b[0m \u001b[0mlen\u001b[0m\u001b[1;33m(\u001b[0m\u001b[0msalaries\u001b[0m\u001b[1;33m)\u001b[0m\u001b[1;33m\u001b[0m\u001b[0m\n\u001b[1;32m---> 19\u001b[1;33m     \u001b[1;32mfor\u001b[0m \u001b[0mtenure_bucket\u001b[0m\u001b[1;33m,\u001b[0m \u001b[0msalaries\u001b[0m \u001b[1;32min\u001b[0m \u001b[0msalary_by_tenure_bucket\u001b[0m\u001b[1;33m.\u001b[0m\u001b[0miteritems\u001b[0m\u001b[1;33m(\u001b[0m\u001b[1;33m)\u001b[0m\u001b[1;33m\u001b[0m\u001b[0m\n\u001b[0m\u001b[0;32m     20\u001b[0m }\n\u001b[0;32m     21\u001b[0m \u001b[1;33m\u001b[0m\u001b[0m\n",
      "\u001b[1;31mAttributeError\u001b[0m: 'collections.defaultdict' object has no attribute 'iteritems'"
     ]
    }
   ],
   "source": [
    "def tenure_bucket(tenure):\n",
    "    if tenure < 2:\n",
    "        return \"less than two\"\n",
    "    elif tenure < 5:\n",
    "        return \"betwween two and five\"\n",
    "    else:\n",
    "        return \"more than five\"\n",
    "    \n",
    "# 鍵值是 tenure bucket(年資分組)，值則是相應分組所對應到的薪水列表\n",
    "salary_by_tenure_bucket = defaultdict(list)\n",
    "\n",
    "for salary, tenure in salaries_and_tenures:\n",
    "    bucket = tenure_bucket(tenure)\n",
    "    salary_by_tenure_bucket[bucket].append(salary)\n",
    "    \n",
    "# 鍵值是 tenure bucket(年資分組)，值則是相應分組所對應的平均薪水\n",
    "average_salary_by_bucket = {\n",
    "    tenure_bucket : sum(salaries) / len(salaries)\n",
    "    for tenure_bucket, salaries in salary_by_tenure_bucket.iteritems()    \n",
    "}\n",
    "\n",
    "print(tenure_bucket)"
   ]
  },
  {
   "cell_type": "code",
   "execution_count": 33,
   "metadata": {},
   "outputs": [
    {
     "name": "stdout",
     "output_type": "stream",
     "text": [
      "<function predict_paid_or_unpaid at 0x00000233A304F2F0>\n"
     ]
    }
   ],
   "source": [
    "# 建立年資中間者的付款傾向\n",
    "def predict_paid_or_unpaid(years_expensive):\n",
    "    if years_experience < 3.0:\n",
    "        return \"paid\"\n",
    "    elif years_experience < 8.5:\n",
    "        return \"unpaid\"\n",
    "    else:\n",
    "        return \"paid\"\n",
    "    \n",
    "print(predict_paid_or_unpaid)"
   ]
  },
  {
   "cell_type": "code",
   "execution_count": 34,
   "metadata": {},
   "outputs": [
    {
     "name": "stdout",
     "output_type": "stream",
     "text": [
      "big 3\n",
      "data 3\n",
      "java 3\n",
      "python 3\n",
      "learning 3\n",
      "hadoop 2\n",
      "hbase 2\n",
      "cassandra 2\n",
      "scikit-learn 2\n",
      "r 2\n",
      "statistics 2\n",
      "regression 2\n",
      "probability 2\n",
      "machine 2\n",
      "neural 2\n",
      "networks 2\n"
     ]
    }
   ],
   "source": [
    "words_and_counts = Counter(word\n",
    "                          for user, interest in interests\n",
    "                          for word in  interest.lower().split())\n",
    "\n",
    "for word, count in words_and_counts.most_common():\n",
    "    if count > 1:\n",
    "        print (word, count)"
   ]
  }
 ],
 "metadata": {
  "kernelspec": {
   "display_name": "Python 3",
   "language": "python",
   "name": "python3"
  },
  "language_info": {
   "codemirror_mode": {
    "name": "ipython",
    "version": 3
   },
   "file_extension": ".py",
   "mimetype": "text/x-python",
   "name": "python",
   "nbconvert_exporter": "python",
   "pygments_lexer": "ipython3",
   "version": "3.6.3"
  }
 },
 "nbformat": 4,
 "nbformat_minor": 2
}
