{
 "cells": [
  {
   "cell_type": "code",
   "execution_count": 7,
   "metadata": {},
   "outputs": [],
   "source": [
    "'''\n",
    "網路分析 (network analysis)\n",
    "'''\n",
    "import math, random, re\n",
    "from collections import defaultdict, Counter, deque\n",
    "# from linear_algebra import dot, get_row, get_column, make_matrix, magnitude, scalar_multiply, shape, distance\n",
    "from functools import partial\n",
    "\n",
    "users = [\n",
    "    { \"id\": 0, \"name\": \"Hero\" },\n",
    "    { \"id\": 1, \"name\": \"Dunn\" },\n",
    "    { \"id\": 2, \"name\": \"Sue\" },\n",
    "    { \"id\": 3, \"name\": \"Chi\" },\n",
    "    { \"id\": 4, \"name\": \"Thor\" },\n",
    "    { \"id\": 5, \"name\": \"Clive\" },\n",
    "    { \"id\": 6, \"name\": \"Hicks\" },\n",
    "    { \"id\": 7, \"name\": \"Devin\" },\n",
    "    { \"id\": 8, \"name\": \"Kate\" },\n",
    "    { \"id\": 9, \"name\": \"Klein\" }\n",
    "]\n",
    "\n",
    "friendships = [(0, 1), (0, 2), (1, 2), (1, 3), (2, 3), (3, 4),\n",
    "               (4, 5), (5, 6), (5, 7), (6, 8), (7, 8), (8, 9)]\n",
    "\n",
    "\n",
    "# 把朋友列表加到每個使用者的 dict字典中\n",
    "for user in users:\n",
    "    user[\"friends\"] = []\n",
    "    \n",
    "for i, j in friendships:\n",
    "    # users[i] 就是 id 為 i 的使用者\n",
    "    users[i][\"friends\"].append(users[j])    # 把 j 加為 i 的朋友\n",
    "    users[j][\"friends\"].append(users[i])    # 把 i 加為 j 的朋友"
   ]
  },
  {
   "cell_type": "code",
   "execution_count": 10,
   "metadata": {
    "collapsed": true
   },
   "outputs": [],
   "source": [
    "# 利用 frontier 的佇列 (queue)\n",
    "# 存放要探索的使用者資料\n",
    "from collections import deque\n",
    "\n",
    "def shortest_paths_from(from_user):\n",
    "    # 一個 dict 字典: 鍵值是使用者編號，\n",
    "    # 相應的值則是「所有」其他各使用者連往此使用者的最短路徑\n",
    "    shoortest_path_to = { from_user[\"id\"] : [[]]}\n",
    "    \n",
    "    # 存放 (prev_user, user) 的佇列，稍後在針對其中每個元素進行檢查\n",
    "    # 一開始把所有 (from_user, from_user的朋友) 全放進佇列中\n",
    "    frontier = deque((from_user, friend)\n",
    "                    for friend in from_user[\"friends\"])\n",
    "    \n",
    "    # 一直做到佇列完全空了為止\n",
    "    while frontier:\n",
    "        prev_user, user = frontier.popleft()    # 移出佇列中的\n",
    "        user_id = user[\"id\"]                    # 第一筆使用者資料\n",
    "        \n",
    "        # 考慮到把 (prev_user, user) 送進佇列的作法\n",
    "        # 必然已經知道一些連往 prev_user 的最短路徑\n",
    "        paths_to_prev_user = shortest_paths_to[prev_user[\"id\"]]\n",
    "        new_paths_to_user = [path + [user_id] for path in paths_to_prev_user]\n",
    "        \n",
    "        # 有可能已經知道一條最短路徑\n",
    "        old_paths_to_user = shortest_paths_to.get(user_id, [])\n",
    "        \n",
    "        # 到目前為止所看到的最短路徑有多長？\n",
    "        if old_paths_to_user:\n",
    "            min_path_length = len(old_paths_to_user[0])\n",
    "        else:\n",
    "            min_path_length = float('inf')\n",
    "            \n",
    "        # 不能比舊路徑長，而且必須是新路徑，才會被保留\n",
    "        new_paths_to_user = [path\n",
    "                            for path in new_paths_to_user\n",
    "                            if len(path) <= min_path_length\n",
    "                            and path not in old_paths_to_user]\n",
    "        \n",
    "        shortest_paths_to[user_id] = old_paths_to_user + new_paths_to_user\n",
    "        \n",
    "        # 把沒看過的相鄰節點，添加到 frontier 中\n",
    "        frontier.extend((user, friend)\n",
    "                       for friend in user[\"friends\"]\n",
    "                       if friend[\"id\"] not in shortest_paths_to)\n",
    "    return shortest_paths_to"
   ]
  },
  {
   "cell_type": "code",
   "execution_count": 12,
   "metadata": {},
   "outputs": [
    {
     "ename": "NameError",
     "evalue": "name 'shortest_paths_to' is not defined",
     "output_type": "error",
     "traceback": [
      "\u001b[1;31m---------------------------------------------------------------------------\u001b[0m",
      "\u001b[1;31mNameError\u001b[0m                                 Traceback (most recent call last)",
      "\u001b[1;32m<ipython-input-12-6a335a7d92e4>\u001b[0m in \u001b[0;36m<module>\u001b[1;34m()\u001b[0m\n\u001b[0;32m      1\u001b[0m \u001b[1;31m# 把每個節點相應的 dict 保存\u001b[0m\u001b[1;33m\u001b[0m\u001b[1;33m\u001b[0m\u001b[0m\n\u001b[0;32m      2\u001b[0m \u001b[1;32mfor\u001b[0m \u001b[0muser\u001b[0m \u001b[1;32min\u001b[0m \u001b[0musers\u001b[0m\u001b[1;33m:\u001b[0m\u001b[1;33m\u001b[0m\u001b[0m\n\u001b[1;32m----> 3\u001b[1;33m     \u001b[0muser\u001b[0m\u001b[1;33m[\u001b[0m\u001b[1;34m\"shortest_paths\"\u001b[0m\u001b[1;33m]\u001b[0m \u001b[1;33m=\u001b[0m \u001b[0mshortest_paths_from\u001b[0m\u001b[1;33m(\u001b[0m\u001b[0muser\u001b[0m\u001b[1;33m)\u001b[0m\u001b[1;33m\u001b[0m\u001b[0m\n\u001b[0m\u001b[0;32m      4\u001b[0m \u001b[1;33m\u001b[0m\u001b[0m\n\u001b[0;32m      5\u001b[0m \u001b[1;31m# 在每條最短路徑上，為每個節點增加 1/n 的中心度\u001b[0m\u001b[1;33m\u001b[0m\u001b[1;33m\u001b[0m\u001b[0m\n",
      "\u001b[1;32m<ipython-input-10-75a52deb8189>\u001b[0m in \u001b[0;36mshortest_paths_from\u001b[1;34m(from_user)\u001b[0m\n\u001b[0;32m     20\u001b[0m         \u001b[1;31m# 考慮到把 (prev_user, user) 送進佇列的作法\u001b[0m\u001b[1;33m\u001b[0m\u001b[1;33m\u001b[0m\u001b[0m\n\u001b[0;32m     21\u001b[0m         \u001b[1;31m# 必然已經知道一些連往 prev_user 的最短路徑\u001b[0m\u001b[1;33m\u001b[0m\u001b[1;33m\u001b[0m\u001b[0m\n\u001b[1;32m---> 22\u001b[1;33m         \u001b[0mpaths_to_prev_user\u001b[0m \u001b[1;33m=\u001b[0m \u001b[0mshortest_paths_to\u001b[0m\u001b[1;33m[\u001b[0m\u001b[0mprev_user\u001b[0m\u001b[1;33m[\u001b[0m\u001b[1;34m\"id\"\u001b[0m\u001b[1;33m]\u001b[0m\u001b[1;33m]\u001b[0m\u001b[1;33m\u001b[0m\u001b[0m\n\u001b[0m\u001b[0;32m     23\u001b[0m         \u001b[0mnew_paths_to_user\u001b[0m \u001b[1;33m=\u001b[0m \u001b[1;33m[\u001b[0m\u001b[0mpath\u001b[0m \u001b[1;33m+\u001b[0m \u001b[1;33m[\u001b[0m\u001b[0muser_id\u001b[0m\u001b[1;33m]\u001b[0m \u001b[1;32mfor\u001b[0m \u001b[0mpath\u001b[0m \u001b[1;32min\u001b[0m \u001b[0mpaths_to_prev_user\u001b[0m\u001b[1;33m]\u001b[0m\u001b[1;33m\u001b[0m\u001b[0m\n\u001b[0;32m     24\u001b[0m \u001b[1;33m\u001b[0m\u001b[0m\n",
      "\u001b[1;31mNameError\u001b[0m: name 'shortest_paths_to' is not defined"
     ]
    }
   ],
   "source": [
    "# 把每個節點相應的 dict 保存\n",
    "for user in users:\n",
    "    user[\"shortest_paths\"] = shortest_paths_from(user)\n",
    "    \n",
    "# 在每條最短路徑上，為每個節點增加 1/n 的中心度\n",
    "for user in users:\n",
    "    user[\"betweenness_centrality\"] = 0.0\n",
    "    \n",
    "for source in users:\n",
    "    source_id = source[\"id\"]\n",
    "    \n",
    "for target_id, paths in source[\"shortest_paths\"].items():\n",
    "    if source_id < target_id:        # 不要重複計算\n",
    "        num_paths = len(paths)\n",
    "        contrib = 1 / num_paths\n",
    "        for path in paths:\n",
    "            for id in path:\n",
    "                if id not in [source_id, target_id]:\n",
    "                    users[id][\"betweenness_centrality\"] += contrib"
   ]
  },
  {
   "cell_type": "code",
   "execution_count": 13,
   "metadata": {},
   "outputs": [
    {
     "ename": "KeyError",
     "evalue": "'shortest_paths'",
     "output_type": "error",
     "traceback": [
      "\u001b[1;31m---------------------------------------------------------------------------\u001b[0m",
      "\u001b[1;31mKeyError\u001b[0m                                  Traceback (most recent call last)",
      "\u001b[1;32m<ipython-input-13-62e7c328235e>\u001b[0m in \u001b[0;36m<module>\u001b[1;34m()\u001b[0m\n\u001b[0;32m      8\u001b[0m \u001b[1;33m\u001b[0m\u001b[0m\n\u001b[0;32m      9\u001b[0m \u001b[1;32mfor\u001b[0m \u001b[0muser\u001b[0m \u001b[1;32min\u001b[0m \u001b[0musers\u001b[0m\u001b[1;33m:\u001b[0m\u001b[1;33m\u001b[0m\u001b[0m\n\u001b[1;32m---> 10\u001b[1;33m     \u001b[0muser\u001b[0m\u001b[1;33m[\u001b[0m\u001b[1;34m\"closeness_centrality\"\u001b[0m\u001b[1;33m]\u001b[0m \u001b[1;33m=\u001b[0m \u001b[1;36m1\u001b[0m \u001b[1;33m/\u001b[0m \u001b[0mfarness\u001b[0m\u001b[1;33m(\u001b[0m\u001b[0muser\u001b[0m\u001b[1;33m)\u001b[0m\u001b[1;33m\u001b[0m\u001b[0m\n\u001b[0m",
      "\u001b[1;32m<ipython-input-13-62e7c328235e>\u001b[0m in \u001b[0;36mfarness\u001b[1;34m(user)\u001b[0m\n\u001b[0;32m      5\u001b[0m     '''\n\u001b[0;32m      6\u001b[0m     return sum(len(paths[0])\n\u001b[1;32m----> 7\u001b[1;33m               for paths in user[\"shortest_paths\"].values())\n\u001b[0m\u001b[0;32m      8\u001b[0m \u001b[1;33m\u001b[0m\u001b[0m\n\u001b[0;32m      9\u001b[0m \u001b[1;32mfor\u001b[0m \u001b[0muser\u001b[0m \u001b[1;32min\u001b[0m \u001b[0musers\u001b[0m\u001b[1;33m:\u001b[0m\u001b[1;33m\u001b[0m\u001b[0m\n",
      "\u001b[1;31mKeyError\u001b[0m: 'shortest_paths'"
     ]
    }
   ],
   "source": [
    "# 緊密中心度 (closeness centrality)\n",
    "def farness(user):\n",
    "    '''\n",
    "    與所有其他使用者之間最短路徑的長度總和\n",
    "    '''\n",
    "    return sum(len(paths[0])\n",
    "              for paths in user[\"shortest_paths\"].values())\n",
    "\n",
    "for user in users:\n",
    "    user[\"closeness_centrality\"] = 1 / farness(user)"
   ]
  },
  {
   "cell_type": "code",
   "execution_count": 15,
   "metadata": {
    "collapsed": true
   },
   "outputs": [],
   "source": [
    "'''\n",
    "特徵向量中心度 (eigenvector centrality)\n",
    "'''\n",
    "# 矩陣乘法 或 乘積\n",
    "def matrix_product_entry(A, B, i, j):\n",
    "    return dot(get_row(A, i), get_column(B, j))\n",
    "\n",
    "def matrix_multiply(A, B):\n",
    "    n1, k1 = shape(A)\n",
    "    n2, k2 = shape(B)\n",
    "    if k1 != n2:\n",
    "        raise ArithmeticError(\"incompatible shapes!\")\n",
    "    return make_matrix(n1, k2, partial(matrix_product_entry, A, B))\n",
    "\n",
    "def vector_as_matrix(v):\n",
    "    '''\n",
    "    把一個 (以列表來表示) 向量 v 轉換成一個 n * 1 矩陣\n",
    "    '''\n",
    "    return [[v_i] for v_i in v]\n",
    "\n",
    "def vector_from_matrix(v_as_matrix):\n",
    "    '''\n",
    "    把一個 n * 1 矩陣轉換成一個數值列表\n",
    "    '''\n",
    "    return [row[0] for row in v_as_matrix]\n",
    "\n",
    "def matrix_operate(A, v):\n",
    "    v_as_matrix = vector_as_matrix(v)\n",
    "    product = matrix_multiply(A, v_as_matrix)\n",
    "    return vector_from_matrix(product)"
   ]
  },
  {
   "cell_type": "code",
   "execution_count": 16,
   "metadata": {
    "collapsed": true
   },
   "outputs": [],
   "source": [
    "# 找出 A 的特徵向量套入矩陣運算\n",
    "# 把結果調整成向量長度為 1 的單位向量\n",
    "def find_eigenvector(A, tolenrance=0.00001):\n",
    "    guess = [random.random() for __ in A]\n",
    "    \n",
    "    while True:\n",
    "        result = matrix_operate(A, guess)\n",
    "        length = magnitude(result)\n",
    "        next_guess = scalar_multiply(1/length, result)\n",
    "        \n",
    "        if distance(guess, next_guess) < tolerance:\n",
    "            return next_guess, length    # 特徵向量, 特徵值\n",
    "        \n",
    "        guess = next_guess"
   ]
  },
  {
   "cell_type": "code",
   "execution_count": 17,
   "metadata": {},
   "outputs": [
    {
     "ename": "NameError",
     "evalue": "name 'make_matrix' is not defined",
     "output_type": "error",
     "traceback": [
      "\u001b[1;31m---------------------------------------------------------------------------\u001b[0m",
      "\u001b[1;31mNameError\u001b[0m                                 Traceback (most recent call last)",
      "\u001b[1;32m<ipython-input-17-75d03def3c62>\u001b[0m in \u001b[0;36m<module>\u001b[1;34m()\u001b[0m\n\u001b[0;32m      6\u001b[0m \u001b[1;33m\u001b[0m\u001b[0m\n\u001b[0;32m      7\u001b[0m \u001b[0mn\u001b[0m \u001b[1;33m=\u001b[0m \u001b[0mlen\u001b[0m\u001b[1;33m(\u001b[0m\u001b[0musers\u001b[0m\u001b[1;33m)\u001b[0m\u001b[1;33m\u001b[0m\u001b[0m\n\u001b[1;32m----> 8\u001b[1;33m \u001b[0madjacency_matrix\u001b[0m \u001b[1;33m=\u001b[0m \u001b[0mmake_matrix\u001b[0m\u001b[1;33m(\u001b[0m\u001b[0mn\u001b[0m\u001b[1;33m,\u001b[0m \u001b[0mn\u001b[0m\u001b[1;33m,\u001b[0m \u001b[0mentry_fn\u001b[0m\u001b[1;33m)\u001b[0m\u001b[1;33m\u001b[0m\u001b[0m\n\u001b[0m\u001b[0;32m      9\u001b[0m \u001b[1;33m\u001b[0m\u001b[0m\n\u001b[0;32m     10\u001b[0m \u001b[1;31m# 每個使用者所對應的向量元素值\u001b[0m\u001b[1;33m\u001b[0m\u001b[1;33m\u001b[0m\u001b[0m\n",
      "\u001b[1;31mNameError\u001b[0m: name 'make_matrix' is not defined"
     ]
    }
   ],
   "source": [
    "'''\n",
    "中心度 (centrality)\n",
    "'''\n",
    "def entry_fn(i, j):\n",
    "    return 1 if (i, j) in friendships or (j, i) in friendships else 0\n",
    "\n",
    "n = len(users)\n",
    "adjacency_matrix = make_matrix(n, n, entry_fn)\n",
    "\n",
    "# 每個使用者所對應的向量元素值 \n",
    "eigenvector_centralities, _ = find_eigenvector(adjacency_matrix)\n",
    "\n",
    "# 用一個純亮去乘以 eigenvector_centralities\n",
    "matrix_operate(adjacency_matrix, eigenvector_centralities)\n",
    "\n",
    "# 製造出第 i 個元素\n",
    "dot(get_row(adjacency_matrix, i), eigenvector_centralities)"
   ]
  },
  {
   "cell_type": "code",
   "execution_count": 18,
   "metadata": {},
   "outputs": [
    {
     "data": {
      "text/plain": [
       "[(0, 2),\n",
       " (1, 2),\n",
       " (2, 2),\n",
       " (3, 2),\n",
       " (4, 2),\n",
       " (5, 1),\n",
       " (6, 1),\n",
       " (7, 1),\n",
       " (8, 1),\n",
       " (9, 1)]"
      ]
     },
     "execution_count": 18,
     "metadata": {},
     "output_type": "execute_result"
    }
   ],
   "source": [
    "'''\n",
    "有向圖 (directed graphs)\n",
    "'''\n",
    "endorsements = [(0, 1), (1, 0), (0, 2), (2, 0), (1, 2), (2, 1), (1, 3),\n",
    "                (2, 3), (3, 4), (5, 4), (5, 6), (7, 5), (6, 8), (8, 7), (8, 9)]\n",
    "\n",
    "for user in users:\n",
    "    user[\"endorses\"] = []       # 添加一個列表，以追蹤向外的認同關係\n",
    "    user[\"endorsed_by\"] = []    # 另一個追蹤向內的被認同關係\n",
    "\n",
    "for source_id, target_id in endorsements:\n",
    "    users[source_id][\"endorses\"].append(users[target_id])\n",
    "    users[target_id][\"endorsed_by\"].append(users[source_id])\n",
    "\n",
    "\n",
    "endorsements_by_id = [(user[\"id\"], len(user[\"endorsed_by\"]))\n",
    "                      for user in users]\n",
    "\n",
    "sorted(endorsements_by_id,\n",
    "       key=lambda pair: pair[1],\n",
    "       reverse=True)"
   ]
  },
  {
   "cell_type": "code",
   "execution_count": 23,
   "metadata": {
    "collapsed": true
   },
   "outputs": [],
   "source": [
    "# 將每個節點的頁面級別分數，未分配的部分平均分給所有節點\n",
    "def page_rank(users, damping = 0.85, num_iters = 100):\n",
    "    # 一開始先平均分配頁面級別分數\n",
    "    num_users = len(users)\n",
    "    pr = { user[\"id\"] : 1 / num_users for user in users }\n",
    "    \n",
    "    # 頁面級別分數其中的一小部分比例\n",
    "    # 所有節點都會反覆取得這一部分的分數\n",
    "    base_pr = (1 - damping) / num_users\n",
    "    \n",
    "    for __ in range(num_iters):\n",
    "        next_pr = { user[\"id\"] : base_pr for user in users }\n",
    "        for user in users:\n",
    "            # 將頁面級別分數分配給向外連的節點\n",
    "            links_pr = pr[user[\"id\"]] * damping\n",
    "            for endorsee in user[\"endorses\"]:\n",
    "                next_pr[endorsee[\"id\"]] += link_pr / len(user[\"endorses\"])\n",
    "                pr = next_pr\n",
    "            return pr"
   ]
  }
 ],
 "metadata": {
  "kernelspec": {
   "display_name": "Python 3",
   "language": "python",
   "name": "python3"
  },
  "language_info": {
   "codemirror_mode": {
    "name": "ipython",
    "version": 3
   },
   "file_extension": ".py",
   "mimetype": "text/x-python",
   "name": "python",
   "nbconvert_exporter": "python",
   "pygments_lexer": "ipython3",
   "version": "3.6.3"
  }
 },
 "nbformat": 4,
 "nbformat_minor": 2
}
