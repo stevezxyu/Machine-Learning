{
 "cells": [
  {
   "cell_type": "code",
   "execution_count": 3,
   "metadata": {
    "collapsed": true
   },
   "outputs": [],
   "source": [
    "'''\n",
    "統計假設檢定\n",
    "'''\n",
    "# 二項式隨機變數\n",
    "# 以常態分佈做近似的結果\n",
    "def normal_approximation_to_binomial(n, p):\n",
    "    '''\n",
    "    求出 Binomial(n, p) 相應的平均值 mu 和標準差 sigma\n",
    "    '''\n",
    "    mu = p * n\n",
    "    sigma = math.sqrt(p* (1 - p) * n)\n",
    "    return mu, sigma\n",
    "\n",
    "##############################################\n",
    "\n",
    "# 之前定義的函式\n",
    "from matplotlib import pyplot as plt\n",
    "import math\n",
    "\n",
    "def normal_cdf(x, mu=0, sigma=1):\n",
    "    return (1 + math.erf((x - mu) / math.sqrt(2) / sigma)) / 2\n",
    "\n",
    "##############################################\n",
    "\n",
    "\n",
    "'''\n",
    "用 normal_cdf 計算出其值落在特定區間之內 (或之外) 的機率\n",
    "'''\n",
    "# normal_cdf 代表的是變數落在某個門檻值以下的機率\n",
    "normal_probability_below = normal_cdf\n",
    "\n",
    "# 若不在門檻值以下，就表示在門檻值以上\n",
    "def normal_probability_above(lo, mu=0, sigma=1):\n",
    "    return 1 - normal_cdf(lo, mu, sigma)\n",
    "\n",
    "# 若低於 hi 且不低於 lo，就表示落在區間之內\n",
    "def normal_probability_between(lo, hi, mu=0, sigma=1):\n",
    "    return normal_cdf(hi, mu, sigma) - normal_cdf(lo, mu, sigma)\n",
    "\n",
    "# 若不在區間之內，就表示落在區間之外\n",
    "def normal_probability_outside(lo, hi, mu=0, sigma=1):\n",
    "    return 1 - normal_probability_between(lo, hi, mu, sigma)"
   ]
  },
  {
   "cell_type": "code",
   "execution_count": 19,
   "metadata": {},
   "outputs": [
    {
     "name": "stdout",
     "output_type": "stream",
     "text": [
      "mu_0 : 500.0 \n",
      "sigma_0 : 15.8\n"
     ]
    }
   ],
   "source": [
    "'''\n",
    "推算「非尾區間」\n",
    "'''\n",
    "##############################################\n",
    "\n",
    "# 之前定義的函式\n",
    "def inverse_normal_cdf(probability, mu=0, sigma=1, tolerance=0.00001):\n",
    "    '''\n",
    "    用二元搜尋法逆向求出近似值\n",
    "    '''\n",
    "    # 如果不是標準常態分佈，就先轉換成標轉常態分佈\n",
    "    if mu != 0 or sigma != 1:\n",
    "        return mu + sigma * inverse_normal_cdf(probability, tolerance)\n",
    "\n",
    "##############################################\n",
    "\n",
    "def normal_upper_bound(probability, mu=0, sigma=1):\n",
    "    '''\n",
    "    送回一個 z值，使得 P(Z <= z) = 某個機率值\n",
    "    '''\n",
    "    return inverse_normal_cdf(probability, mu, sigma)\n",
    "\n",
    "def normal_lower_bound(probability, mu=0, sigma=1):\n",
    "    '''\n",
    "    送回一個 z值，使得 P(Z >= z) = 某個機率值\n",
    "    '''\n",
    "    return inverse_normal_cdf(probability, mu, sigma)\n",
    "\n",
    "def normal_two_sided_bounds(probability, mu=0, sigma=1):\n",
    "    '''\n",
    "    送回一個 (以平均值為中心的) 對稱邊界\n",
    "    其中所涵蓋的區域，正好對應指定的機率值\n",
    "    '''\n",
    "    tail_probability = ( 1 - probability) / 2\n",
    "    \n",
    "    # 高於上邊界的機率，應該恰等於 tail_probability\n",
    "    upper_bound = normal_lower_bound(tail_probability, mu, sigma)\n",
    "    \n",
    "    # 低於下邊界的機率，也應該等於 tail_probability\n",
    "    lower_bound = normal_upper_bound(tail_probability, mu, sigma)\n",
    "    \n",
    "    return lower_bound, upper_bound\n",
    "\n",
    "# if \"The coin is fair\", mean and sd are 500, 15.8 distribution of X\n",
    "mu_0, sigma_0 = normal_approximation_to_binomial(1000, 0.5)\n",
    "print(\"mu_0 : %.1f\" %  mu_0, \"\\n\" + \"sigma_0 : %.1f\" % sigma_0)\n",
    "\n",
    "\n",
    "# 顯著性 (significance)\n",
    "# 會犯下 type 1 error 的機率\n",
    "\n",
    "# if X in the outside bound, we can reject H0 hypothesis\n",
    "# print(\"normal_two_sided_bounds :\", normal_two_sided_bounds(0.95, mu_0, sigma_0))"
   ]
  },
  {
   "cell_type": "code",
   "execution_count": 26,
   "metadata": {},
   "outputs": [
    {
     "ename": "RecursionError",
     "evalue": "maximum recursion depth exceeded in comparison",
     "output_type": "error",
     "traceback": [
      "\u001b[1;31m---------------------------------------------------------------------------\u001b[0m",
      "\u001b[1;31mRecursionError\u001b[0m                            Traceback (most recent call last)",
      "\u001b[1;32m<ipython-input-26-611f2b8ae073>\u001b[0m in \u001b[0;36m<module>\u001b[1;34m()\u001b[0m\n\u001b[0;32m      4\u001b[0m '''\n\u001b[0;32m      5\u001b[0m \u001b[1;31m# 根據 p = 0.5 的零假設，所得到的 95%邊界\u001b[0m\u001b[1;33m\u001b[0m\u001b[1;33m\u001b[0m\u001b[0m\n\u001b[1;32m----> 6\u001b[1;33m \u001b[0mlo\u001b[0m\u001b[1;33m,\u001b[0m \u001b[0mhi\u001b[0m \u001b[1;33m=\u001b[0m \u001b[0mnormal_two_sided_bounds\u001b[0m\u001b[1;33m(\u001b[0m\u001b[1;36m0.95\u001b[0m\u001b[1;33m,\u001b[0m \u001b[0mmu_0\u001b[0m\u001b[1;33m,\u001b[0m \u001b[0msigma_0\u001b[0m\u001b[1;33m)\u001b[0m\u001b[1;33m\u001b[0m\u001b[0m\n\u001b[0m\u001b[0;32m      7\u001b[0m \u001b[1;33m\u001b[0m\u001b[0m\n\u001b[0;32m      8\u001b[0m \u001b[1;31m# 實際上 p = 0.55，根據此情況，計算出真實的 mu 與 sigma\u001b[0m\u001b[1;33m\u001b[0m\u001b[1;33m\u001b[0m\u001b[0m\n",
      "\u001b[1;32m<ipython-input-19-5fa405f1dd88>\u001b[0m in \u001b[0;36mnormal_two_sided_bounds\u001b[1;34m(probability, mu, sigma)\u001b[0m\n\u001b[0;32m     35\u001b[0m \u001b[1;33m\u001b[0m\u001b[0m\n\u001b[0;32m     36\u001b[0m     \u001b[1;31m# 高於上邊界的機率，應該恰等於 tail_probability\u001b[0m\u001b[1;33m\u001b[0m\u001b[1;33m\u001b[0m\u001b[0m\n\u001b[1;32m---> 37\u001b[1;33m     \u001b[0mupper_bound\u001b[0m \u001b[1;33m=\u001b[0m \u001b[0mnormal_lower_bound\u001b[0m\u001b[1;33m(\u001b[0m\u001b[0mtail_probability\u001b[0m\u001b[1;33m,\u001b[0m \u001b[0mmu\u001b[0m\u001b[1;33m,\u001b[0m \u001b[0msigma\u001b[0m\u001b[1;33m)\u001b[0m\u001b[1;33m\u001b[0m\u001b[0m\n\u001b[0m\u001b[0;32m     38\u001b[0m \u001b[1;33m\u001b[0m\u001b[0m\n\u001b[0;32m     39\u001b[0m     \u001b[1;31m# 低於下邊界的機率，也應該等於 tail_probability\u001b[0m\u001b[1;33m\u001b[0m\u001b[1;33m\u001b[0m\u001b[0m\n",
      "\u001b[1;32m<ipython-input-19-5fa405f1dd88>\u001b[0m in \u001b[0;36mnormal_lower_bound\u001b[1;34m(probability, mu, sigma)\u001b[0m\n\u001b[0;32m     25\u001b[0m     \u001b[0m送回一個\u001b[0m \u001b[0mz值\u001b[0m\u001b[0;31m，\u001b[0m\u001b[0m使得\u001b[0m \u001b[0mP\u001b[0m\u001b[1;33m(\u001b[0m\u001b[0mZ\u001b[0m \u001b[1;33m>=\u001b[0m \u001b[0mz\u001b[0m\u001b[1;33m)\u001b[0m \u001b[1;33m=\u001b[0m \u001b[0m某個機率值\u001b[0m\u001b[1;33m\u001b[0m\u001b[0m\n\u001b[0;32m     26\u001b[0m     '''\n\u001b[1;32m---> 27\u001b[1;33m     \u001b[1;32mreturn\u001b[0m \u001b[0minverse_normal_cdf\u001b[0m\u001b[1;33m(\u001b[0m\u001b[0mprobability\u001b[0m\u001b[1;33m,\u001b[0m \u001b[0mmu\u001b[0m\u001b[1;33m,\u001b[0m \u001b[0msigma\u001b[0m\u001b[1;33m)\u001b[0m\u001b[1;33m\u001b[0m\u001b[0m\n\u001b[0m\u001b[0;32m     28\u001b[0m \u001b[1;33m\u001b[0m\u001b[0m\n\u001b[0;32m     29\u001b[0m \u001b[1;32mdef\u001b[0m \u001b[0mnormal_two_sided_bounds\u001b[0m\u001b[1;33m(\u001b[0m\u001b[0mprobability\u001b[0m\u001b[1;33m,\u001b[0m \u001b[0mmu\u001b[0m\u001b[1;33m=\u001b[0m\u001b[1;36m0\u001b[0m\u001b[1;33m,\u001b[0m \u001b[0msigma\u001b[0m\u001b[1;33m=\u001b[0m\u001b[1;36m1\u001b[0m\u001b[1;33m)\u001b[0m\u001b[1;33m:\u001b[0m\u001b[1;33m\u001b[0m\u001b[0m\n",
      "\u001b[1;32m<ipython-input-19-5fa405f1dd88>\u001b[0m in \u001b[0;36minverse_normal_cdf\u001b[1;34m(probability, mu, sigma, tolerance)\u001b[0m\n\u001b[0;32m     11\u001b[0m     \u001b[1;31m# 如果不是標準常態分佈，就先轉換成標轉常態分佈\u001b[0m\u001b[1;33m\u001b[0m\u001b[1;33m\u001b[0m\u001b[0m\n\u001b[0;32m     12\u001b[0m     \u001b[1;32mif\u001b[0m \u001b[0mmu\u001b[0m \u001b[1;33m!=\u001b[0m \u001b[1;36m0\u001b[0m \u001b[1;32mor\u001b[0m \u001b[0msigma\u001b[0m \u001b[1;33m!=\u001b[0m \u001b[1;36m1\u001b[0m\u001b[1;33m:\u001b[0m\u001b[1;33m\u001b[0m\u001b[0m\n\u001b[1;32m---> 13\u001b[1;33m         \u001b[1;32mreturn\u001b[0m \u001b[0mmu\u001b[0m \u001b[1;33m+\u001b[0m \u001b[0msigma\u001b[0m \u001b[1;33m*\u001b[0m \u001b[0minverse_normal_cdf\u001b[0m\u001b[1;33m(\u001b[0m\u001b[0mprobability\u001b[0m\u001b[1;33m,\u001b[0m \u001b[0mtolerance\u001b[0m\u001b[1;33m)\u001b[0m\u001b[1;33m\u001b[0m\u001b[0m\n\u001b[0m\u001b[0;32m     14\u001b[0m \u001b[1;33m\u001b[0m\u001b[0m\n\u001b[0;32m     15\u001b[0m \u001b[1;31m##############################################\u001b[0m\u001b[1;33m\u001b[0m\u001b[1;33m\u001b[0m\u001b[0m\n",
      "... last 1 frames repeated, from the frame below ...\n",
      "\u001b[1;32m<ipython-input-19-5fa405f1dd88>\u001b[0m in \u001b[0;36minverse_normal_cdf\u001b[1;34m(probability, mu, sigma, tolerance)\u001b[0m\n\u001b[0;32m     11\u001b[0m     \u001b[1;31m# 如果不是標準常態分佈，就先轉換成標轉常態分佈\u001b[0m\u001b[1;33m\u001b[0m\u001b[1;33m\u001b[0m\u001b[0m\n\u001b[0;32m     12\u001b[0m     \u001b[1;32mif\u001b[0m \u001b[0mmu\u001b[0m \u001b[1;33m!=\u001b[0m \u001b[1;36m0\u001b[0m \u001b[1;32mor\u001b[0m \u001b[0msigma\u001b[0m \u001b[1;33m!=\u001b[0m \u001b[1;36m1\u001b[0m\u001b[1;33m:\u001b[0m\u001b[1;33m\u001b[0m\u001b[0m\n\u001b[1;32m---> 13\u001b[1;33m         \u001b[1;32mreturn\u001b[0m \u001b[0mmu\u001b[0m \u001b[1;33m+\u001b[0m \u001b[0msigma\u001b[0m \u001b[1;33m*\u001b[0m \u001b[0minverse_normal_cdf\u001b[0m\u001b[1;33m(\u001b[0m\u001b[0mprobability\u001b[0m\u001b[1;33m,\u001b[0m \u001b[0mtolerance\u001b[0m\u001b[1;33m)\u001b[0m\u001b[1;33m\u001b[0m\u001b[0m\n\u001b[0m\u001b[0;32m     14\u001b[0m \u001b[1;33m\u001b[0m\u001b[0m\n\u001b[0;32m     15\u001b[0m \u001b[1;31m##############################################\u001b[0m\u001b[1;33m\u001b[0m\u001b[1;33m\u001b[0m\u001b[0m\n",
      "\u001b[1;31mRecursionError\u001b[0m: maximum recursion depth exceeded in comparison"
     ]
    }
   ],
   "source": [
    "'''\n",
    "檢定力 (power)\n",
    "    不犯下 type 2 error 的機率\n",
    "'''\n",
    "# 根據 p = 0.5 的零假設，所得到的 95%邊界\n",
    "lo, hi = normal_two_sided_bounds(0.95, mu_0, sigma_0)\n",
    "\n",
    "# 實際上 p = 0.55，根據此情況，計算出真實的 mu 與 sigma\n",
    "mu_1, sigma_1 = normal_approximation_to_binomial(1000, 0.55)\n",
    "\n",
    "# 第二類型錯誤表示應否決而未否決零假設\n",
    "# x 若還是落在零假設區間內，則認為假設沒問題，而犯下型二錯誤\n",
    "type_2_probability = normal_probability_between(lo, hi, mu_1, sigma_1)\n",
    "power = 1 - type_2_probability       # 0.887 is type 2 error\n",
    "# print(\"power : %.3d\" % power)\n",
    "\n",
    "# 單邊檢定 one-sided test\n",
    "hi = normal_upper_bound(0.95, mu_0, sigma_0)\n",
    "# 截點值為 526 (< 531，有 5%的可能性全都在 X比 500大很多的上尾部那邊)\n",
    "\n",
    "type_2_probability = normal_probability_bellow(hi, mu_1, sigma_1)\n",
    "power = 1 - type_2_probability     # 0.936\n",
    "print(\"power : %.3d\" % power)"
   ]
  },
  {
   "cell_type": "code",
   "execution_count": 34,
   "metadata": {},
   "outputs": [
    {
     "name": "stdout",
     "output_type": "stream",
     "text": [
      "two_sided_p_value : 0.062\n",
      "extreme_value_count : 0.062\n",
      "---------------\n",
      "if n = 532, two_sided_p_value : 0.0463\n",
      "if n = 525, upper_p_value : 0.061\n",
      "if n = 527, upper_p_value : 0.047\n",
      "if n = 525, lower_p_value : 0.953\n",
      "if n = 527, lower_p_value : 0.959\n"
     ]
    }
   ],
   "source": [
    "# P-value\n",
    "# use two-sided test to test the coin whether fair\n",
    "def two_sided_p_value(x, mu=0, sigma=1):\n",
    "    if x >= mu:\n",
    "        # 如果 x 大於平均值，就計算大於 x的上尾部\n",
    "        return 2 * normal_probability_above(x, mu, sigma)\n",
    "    else:\n",
    "        # 如果 x 小於平均值，就計算小於 x的下尾部\n",
    "        return 2 * normal_probability_below(x, mu, sigma)\n",
    "    \n",
    "# if the test results are 500 times of heads, we'll calculate\n",
    "print(\"two_sided_p_value : %.3f\" % two_sided_p_value(529.5, mu_0, sigma_0))     # 0.062\n",
    "\n",
    "\n",
    "# use the huge data to support an evidence\n",
    "import random\n",
    "extreme_value_count = 0\n",
    "for _ in range(100000):\n",
    "    num_heads = sum(1 if random.random() < 0.5 else 0         # 每丟擲 1000次硬幣，\n",
    "                   for _ in range(1000))                      # 就計算一次丟出正面的次數\n",
    "    if num_heads >= 530 or num_heads <= 470:                  # 再計算下一次\n",
    "        extreme_value_count += 1                              # 其中次數很極端的發生機率\n",
    "        \n",
    "print(\"extreme_value_count : %.3f\" % (extreme_value_count / 100000 ))     # 0.062\n",
    "print(\"---------------\")\n",
    "\n",
    "\n",
    "# if the test results are 532 times of heads, the p-value is below\n",
    "print(\"if n = 532, two_sided_p_value : %.4f\" % two_sided_p_value(531.5, mu_0, sigma_0))   # 0.0463\n",
    "\n",
    "upper_p_value = normal_probability_above\n",
    "lower_p_value = normal_probability_below\n",
    "print(\"if n = 525, upper_p_value : %.3f\" % upper_p_value(524.5, mu_0, sigma_0))     # 0.061\n",
    "print(\"if n = 527, upper_p_value : %.3f\" % upper_p_value(526.5, mu_0, sigma_0))     # 0.047\n",
    "print(\"if n = 525, lower_p_value : %.3f\" % lower_p_value(526.5, mu_0, sigma_0))     # 0.953\n",
    "print(\"if n = 527, lower_p_value : %.3f\" % lower_p_value(527.5, mu_0, sigma_0))     # 0.959"
   ]
  },
  {
   "cell_type": "code",
   "execution_count": 41,
   "metadata": {},
   "outputs": [
    {
     "name": "stdout",
     "output_type": "stream",
     "text": [
      "sd : 0.0157\n",
      "sigma : 0.0158\n"
     ]
    }
   ],
   "source": [
    "'''\n",
    "信賴區間 (confidence interval)\n",
    "'''\n",
    "import math\n",
    "\n",
    "# The mean is p, sd is \n",
    "p = 0.435\n",
    "sd = math.sqrt(p * (1 - p) / 1000)                # 0.0157\n",
    "print(\"sd : %.4f\" % sd)\n",
    "\n",
    "# the change estimate\n",
    "p_hat = 525 / 1000\n",
    "mu = p_hat\n",
    "sigma = math.sqrt(p_hat * (1 - p_hat) / 1000)     # 0.0158\n",
    "print(\"sigma : %.4f\" % sigma)\n",
    "\n",
    "# if we have 0.95 confidence to believe true value of p between this interval\n",
    "# print(\"normal_two_sided_bounds : %.4f\" % list(normal_two_sided_bounds(0.95, mu, sigma)))     # [0.4940, 0.5560]\n",
    "\n",
    "# if we gain is 540 times of heads, we'll calculate\n",
    "p_hat = 540 / 1000\n",
    "mu = p_hat\n",
    "sigma = math.sqrt(p_hat * (1 - p_hat) / 1000)     # 0.0158\n",
    "# print(\"normal_two_sided_bounds of p_hat : %.4f\" % list(normal_two_sided_bounds(0.95, mu, sigma)))   # [0.5091, 0.5709]"
   ]
  },
  {
   "cell_type": "code",
   "execution_count": 44,
   "metadata": {},
   "outputs": [
    {
     "name": "stdout",
     "output_type": "stream",
     "text": [
      "num_rejections : 46\n"
     ]
    }
   ],
   "source": [
    "'''\n",
    "P-hacking\n",
    "    出現誤判而否決掉零假設的情況\n",
    "'''\n",
    "import random\n",
    "\n",
    "def run_experiment():\n",
    "    '''\n",
    "    丟擲一個公正的硬幣 1000次，True表示正面，False表示反面\n",
    "    '''\n",
    "    return [random.random() < 0.5 for _ in range(1000)]\n",
    "\n",
    "def reject_fairness(experiment):\n",
    "    '''\n",
    "    使用 5% 的顯著程度\n",
    "    '''\n",
    "    num_heads = len([flip for flip in experiment if flip])\n",
    "    return num_heads < 469 or num_heads > 531\n",
    "\n",
    "random.seed(0)\n",
    "experiments = [run_experiment() for _ in range(1000)]\n",
    "num_rejections = len([experiment\n",
    "                     for experiment in experiments\n",
    "                     if reject_fairness(experiment)])\n",
    "\n",
    "print(\"num_rejections :\", num_rejections)       # 46"
   ]
  },
  {
   "cell_type": "code",
   "execution_count": 61,
   "metadata": {},
   "outputs": [
    {
     "name": "stdout",
     "output_type": "stream",
     "text": [
      "estimated_parameters :  (0.1, 0.009486832980505138)\n",
      "z : -1.140\n",
      "two_sided_p_value(z) : 0.254\n",
      "---------------\n",
      "two_sided_p_value(z) : 0.003\n"
     ]
    }
   ],
   "source": [
    "'''\n",
    "執行 A/B 測試\n",
    "'''\n",
    "def estimated_parameters(N, n):\n",
    "    p = n / N\n",
    "    sigma = math.sqrt(p * (1 - p) / N)\n",
    "    return p, sigma\n",
    "\n",
    "print(\"estimated_parameters : \", estimated_parameters(1000, 100))\n",
    "\n",
    "\n",
    "# p_A as same as p_B\n",
    "def a_b_test_statistic(N_A, n_A, N_B, n_B):\n",
    "    p_A, sigma_A = estimated_parameters(N_A, n_A)\n",
    "    p_B, sigma_B = estimated_parameters(N_B, n_B)\n",
    "    return (p_B - p_A) / math.sqrt(sigma_A ** 2 + sigma_B **2)\n",
    "\n",
    "z = a_b_test_statistic(1000, 200, 1000, 180)\n",
    "print(\"z : %.3f\" % z)\n",
    "\n",
    "two_sided_p_value(z)\n",
    "print(\"two_sided_p_value(z) : %.3f\" % two_sided_p_value(z))\n",
    "print(\"---------------\")\n",
    "\n",
    "z = a_b_test_statistic(1000, 200, 1000, 150)\n",
    "two_sided_p_value(z)\n",
    "print(\"two_sided_p_value(z) : %.3f\" % two_sided_p_value(z))"
   ]
  },
  {
   "cell_type": "code",
   "execution_count": 114,
   "metadata": {},
   "outputs": [
    {
     "name": "stdout",
     "output_type": "stream",
     "text": [
      "B(1,1) : 1.0\n",
      "B(10,10) : 1.0825088224469029e-06\n",
      "B(4,16) : 6.449948400412796e-05\n",
      "B(16,4) : 6.449948400412796e-05\n",
      "---------------\n"
     ]
    },
    {
     "data": {
      "image/png": "[encoded data removed]",
      "text/plain": [
       "<matplotlib.figure.Figure at 0x269f5ce6ef0>"
      ]
     },
     "metadata": {},
     "output_type": "display_data"
    }
   ],
   "source": [
    "'''\n",
    "貝氏推論\n",
    "    把未知參數視為隨機變數\n",
    "    先驗分布 (prior distribution)，利用觀測數據和貝氏定理進行更新\n",
    "    後驗分布 (posterior distribution)\n",
    "'''\n",
    "from matplotlib import pyplot as plt\n",
    "\n",
    "# Beta distribution\n",
    "def B(alpha, beta):\n",
    "    '''\n",
    "    已正則化的常數，使總機率為 1\n",
    "    '''\n",
    "    return math.gamma(alpha) * math.gamma(beta) / math.gamma(alpha + beta)\n",
    "\n",
    "def beta_pdf(x, alpha, beta):\n",
    "    if x < 0 or x > 1:          # [0, 1] 之外不給任何權重\n",
    "        return 0\n",
    "    return x ** (alpha - 1) * (1 - x ) ** (beta - 1) / B(alpha, beta)\n",
    "\n",
    "print(\"B(1,1) :\", B(1,1))\n",
    "print(\"B(10,10) :\", B(10,10))\n",
    "print(\"B(4,16) :\", B(4,16))\n",
    "print(\"B(16,4) :\", B(16,4))\n",
    "print(\"---------------\")\n",
    "\n",
    "xs = [x / 10.0 for x in range(-10, 20)]\n",
    "plt.plot(xs, [beta_pdf(x, 1, 1) for x in xs], '-', label='B(1,1)')\n",
    "plt.plot(xs, [beta_pdf(x, 10, 10) for x in xs], '-', label='B(10,10)')\n",
    "plt.plot(xs, [beta_pdf(x, 4, 16) for x in xs], '-', label='B(4,16)')\n",
    "plt.plot(xs, [beta_pdf(x, 16, 4) for x in xs], '-', label='B(16,4)')\n",
    "plt.legend()\n",
    "plt.title(\"Beta distribution pdfs\")\n",
    "plt.show()"
   ]
  }
 ],
 "metadata": {
  "kernelspec": {
   "display_name": "Python 3",
   "language": "python",
   "name": "python3"
  },
  "language_info": {
   "codemirror_mode": {
    "name": "ipython",
    "version": 3
   },
   "file_extension": ".py",
   "mimetype": "text/x-python",
   "name": "python",
   "nbconvert_exporter": "python",
   "pygments_lexer": "ipython3",
   "version": "3.6.3"
  }
 },
 "nbformat": 4,
 "nbformat_minor": 2
}
