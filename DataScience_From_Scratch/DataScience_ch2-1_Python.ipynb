{
 "cells": [
  {
   "cell_type": "code",
   "execution_count": 2,
   "metadata": {},
   "outputs": [
    {
     "name": "stdout",
     "output_type": "stream",
     "text": [
      "1\n",
      "1\n",
      "2\n",
      "2\n",
      "3\n",
      "3\n",
      "4\n",
      "4\n",
      "5\n",
      "5\n",
      "6\n",
      "1\n",
      "2\n",
      "1\n",
      "3\n",
      "2\n",
      "4\n",
      "3\n",
      "5\n",
      "4\n",
      "6\n",
      "5\n",
      "7\n",
      "2\n",
      "3\n",
      "1\n",
      "4\n",
      "2\n",
      "5\n",
      "3\n",
      "6\n",
      "4\n",
      "7\n",
      "5\n",
      "8\n",
      "3\n",
      "4\n",
      "1\n",
      "5\n",
      "2\n",
      "6\n",
      "3\n",
      "7\n",
      "4\n",
      "8\n",
      "5\n",
      "9\n",
      "4\n",
      "5\n",
      "1\n",
      "6\n",
      "2\n",
      "7\n",
      "3\n",
      "8\n",
      "4\n",
      "9\n",
      "5\n",
      "10\n",
      "5\n",
      "done looping\n"
     ]
    }
   ],
   "source": [
    "'''\n",
    "基礎概念\n",
    "'''\n",
    "# 縮排\n",
    "for i in [1, 2, 3, 4, 5]:\n",
    "    print(i)                     # \"for i\" 這個區塊的第一行 \n",
    "    for j in [1, 2, 3, 4, 5]:\n",
    "        print(j)                 # \"for j\" 這個區塊的第一行\n",
    "        print(i + j)             # \"for j\" 這個區塊的最後一行\n",
    "    print(i)                     # \"for i\" 這個區塊的最後一行\n",
    "print(\"done looping\")"
   ]
  },
  {
   "cell_type": "code",
   "execution_count": 5,
   "metadata": {},
   "outputs": [
    {
     "name": "stdout",
     "output_type": "stream",
     "text": [
      "5\n"
     ]
    }
   ],
   "source": [
    "# [] () 容易閱讀\n",
    "long_winded_computation = (1 + 2 + 3 + 4 + 5 + 6 + 7 + 8 + 9 + 10 + 11 + 12 +\n",
    "                          13 + 14 + 15 + 16 + 17 + 18 + 19 + 20)\n",
    "\n",
    "list_of_lists = [[1,2,3], [4, 5, 6], [7, 8, 9]]\n",
    "\n",
    "easier_to_read_list_of_lists = [ [1, 2, 3],\n",
    "                               [4, 5, 6],\n",
    "                               [7, 8, 9] ]\n",
    "\n",
    "# 換行接續\n",
    "two_plus_three = 2 + \\\n",
    "                 3\n",
    "print(two_plus_three)"
   ]
  },
  {
   "cell_type": "code",
   "execution_count": 7,
   "metadata": {},
   "outputs": [
    {
     "name": "stdout",
     "output_type": "stream",
     "text": [
      "1\n",
      "2\n",
      "3\n",
      "4\n",
      "5\n"
     ]
    }
   ],
   "source": [
    "# 空格跳行後執行\n",
    "for i in [1, 2, 3, 4, 5]:\n",
    "    \n",
    "    #這裡有空行\n",
    "    print(i)"
   ]
  },
  {
   "cell_type": "code",
   "execution_count": 8,
   "metadata": {},
   "outputs": [
    {
     "name": "stdout",
     "output_type": "stream",
     "text": [
      "my_counter : Counter()\n"
     ]
    }
   ],
   "source": [
    "# 模組匯入(import)\n",
    "import re as regex                         # 可替模組取別名\n",
    "my_regex = regex.compile(\"[0-9]+\", regex.I)   # re之後是模組名稱\n",
    "\n",
    "# 從模組取出特定東西\n",
    "import matplotlib.pyplot as plt\n",
    "from collections import defaultdict, Counter\n",
    "lookup = defaultdict(int)\n",
    "my_counter = Counter()\n",
    "\n",
    "print(\"my_counter :\" ,my_counter)"
   ]
  },
  {
   "cell_type": "code",
   "execution_count": 3,
   "metadata": {},
   "outputs": [
    {
     "name": "stdout",
     "output_type": "stream",
     "text": [
      "8\n"
     ]
    }
   ],
   "source": [
    "#  python 2.7 會直接計算出整數解\n",
    "from __future__ import division\n",
    "\n",
    "# 函式 function\n",
    "def double(x):\n",
    "    '''\n",
    "    在此處輸入一段文字已說明函數功能\n",
    "    莉如此函數會把輸入值*2\n",
    "    '''\n",
    "    return x*2\n",
    "\n",
    "print(double(4))"
   ]
  },
  {
   "cell_type": "code",
   "execution_count": 5,
   "metadata": {},
   "outputs": [
    {
     "name": "stdout",
     "output_type": "stream",
     "text": [
      "6\n"
     ]
    }
   ],
   "source": [
    "# python 的函數屬於一級函式 (fist-class)\n",
    "def apply_to_one(f):\n",
    "    '''\n",
    "    呼叫函式f，並以1作為它的參數\n",
    "    '''\n",
    "    return f(1)\n",
    "\n",
    "my_double = double             # 引用之前所定義的函式\n",
    "x = apply_to_one(my_double)    # 結果等於2\n",
    "y = apply_to_one(lambda x : x + 4)    # 結果等於5\n",
    "\n",
    "another_double = lambda x : 2 * x     # 不建議此做法，lambda是精簡的寫法\n",
    "def another_double(x): return 2 * x   # 改為此作法\n",
    "print(another_double(3))"
   ]
  },
  {
   "cell_type": "code",
   "execution_count": 27,
   "metadata": {},
   "outputs": [
    {
     "name": "stdout",
     "output_type": "stream",
     "text": [
      "hello\n",
      "None\n",
      "my default message\n",
      "None\n"
     ]
    }
   ],
   "source": [
    "def my_print(message=\"my default message\"):\n",
    "     print(message)\n",
    "    \n",
    "print(my_print(\"hello\"))   # 輸出 hello\n",
    "print(my_print())          # 輸出 my default message"
   ]
  },
  {
   "cell_type": "code",
   "execution_count": 15,
   "metadata": {},
   "outputs": [
    {
     "name": "stdout",
     "output_type": "stream",
     "text": [
      "-5\n"
     ]
    }
   ],
   "source": [
    "def substract(a=0, b=0):\n",
    "    return a - b\n",
    "\n",
    "#substract(10, 5)   # 送回 5\n",
    "# substract(0, 5)   # 送回 -5\n",
    "print(substract(b =5))     # 一樣是 -5"
   ]
  },
  {
   "cell_type": "code",
   "execution_count": 21,
   "metadata": {},
   "outputs": [
    {
     "name": "stdout",
     "output_type": "stream",
     "text": [
      "Tab字元 : 1\n",
      "字元有 \\ 和一個 t : 2\n"
     ]
    }
   ],
   "source": [
    "# 字串\n",
    "single_quoted_string = 'data science'\n",
    "double_quoted_string = 'data science'\n",
    "\n",
    "# 反斜線\n",
    "tab_string = \"\\t\"                                 # 表示 Tab字元\n",
    "print(\"Tab字元 :\", len(tab_string))                      # 結果為 1\n",
    "\n",
    "not_tab_string = r\"\\t\"                            # 字串有 '\\' 和一個 't'\n",
    "print(\"字元有 \\ 和一個 t :\", len(not_tab_string))     # 結果為 2"
   ]
  },
  {
   "cell_type": "code",
   "execution_count": 35,
   "metadata": {},
   "outputs": [
    {
     "name": "stdout",
     "output_type": "stream",
     "text": [
      "cannot divide by zero\n"
     ]
    }
   ],
   "source": [
    "# 例外狀況\n",
    "try:\n",
    "    print( 0 / 0)\n",
    "except ZeroDivisionError:\n",
    "    print(\"cannot divide by zero\")"
   ]
  },
  {
   "cell_type": "code",
   "execution_count": 39,
   "metadata": {},
   "outputs": [
    {
     "name": "stdout",
     "output_type": "stream",
     "text": [
      "3\n",
      "6\n"
     ]
    }
   ],
   "source": [
    "# 列表 list\n",
    "integer_list = [1, 2, 3]\n",
    "heterogeneous_list = [\"string\", 0.1, True]\n",
    "list_of_lists = [ integer_list, heterogeneous_list, [] ]\n",
    "\n",
    "list_length = len(integer_list)    # 結果等於3\n",
    "print(list_length)\n",
    "list_sum = sum(integer_list)       # 結果等於6\n",
    "print(list_sum)"
   ]
  },
  {
   "cell_type": "code",
   "execution_count": 46,
   "metadata": {},
   "outputs": [
    {
     "name": "stdout",
     "output_type": "stream",
     "text": [
      "0\n",
      "1\n",
      "9\n",
      "8\n",
      "-1\n"
     ]
    }
   ],
   "source": [
    "x = list(range(10))       # the result equal to [0,1,...,9] like this a list\n",
    "zero = x[0]         # the result equal to 0 : list from index 0 begin\n",
    "print(zero)\n",
    "\n",
    "one = x[1]          # the result equal to 1\n",
    "print(one)\n",
    "\n",
    "nine = x[-1]        # the result equal to 9 : this gain the last fisrt element, it's inherited python style way\n",
    "print(nine)\n",
    "\n",
    "eight = x[-2]       # the result equal to 8 : this gain the last second element, it's inherited python style way\n",
    "print(eight)\n",
    "\n",
    "x[0] = -1           # now x become to [-1, 1 ,2,..., 9]\n",
    "print(x[0])"
   ]
  },
  {
   "cell_type": "code",
   "execution_count": 74,
   "metadata": {},
   "outputs": [
    {
     "name": "stdout",
     "output_type": "stream",
     "text": [
      "True\n",
      "False\n",
      "---------------\n",
      "x.extend :  [1, 2, 3, 4, 5, 6]\n",
      "---------------\n",
      "x :  [1, 2, 3]\n",
      "y = x + list :  [1, 2, 3, 4, 5, 6]\n",
      "---------------\n",
      "x.append :  [1, 2, 3, 0]\n",
      "y :  0\n",
      "z :  4\n",
      "---------------\n",
      "1 2\n",
      "1 2\n"
     ]
    }
   ],
   "source": [
    "# split or seperate\n",
    "# \"in\" can check whether elements at the list \n",
    "1 in [1, 2, 3]   # the result is True\n",
    "0 in [1, 2, 3]   # the result is False\n",
    "print(bool(1))\n",
    "print(bool(0))\n",
    "\n",
    "# By one on one check\n",
    "x = [1, 2, 3]\n",
    "x.extend([4, 5, 6])    # now x become to [1, 2, 3, 4, 5, 6]\n",
    "print(\"---------------\")\n",
    "print(\"x.extend : \", x)\n",
    "\n",
    "# list to add\n",
    "x = [1, 2, 3]\n",
    "y = x + [4, 5, 6]      # the content of y become to [1, 2, 3, 4, 5, 6]; and x is not changed\n",
    "print(\"---------------\")\n",
    "print(\"x : \", x)\n",
    "print(\"y = x + list : \", y)\n",
    "\n",
    "# just once add one item in list\n",
    "x = [1, 2, 3]\n",
    "x.append(0)     # now x become to [1, 2, 3, 0]\n",
    "y = x[-1]       # the result equal to 0\n",
    "z = len(x)      # the result equal to 4\n",
    "print(\"---------------\")\n",
    "print(\"x.append : \", x)\n",
    "print(\"y : \", y)\n",
    "print(\"z : \", z)\n",
    "\n",
    "print(\"---------------\")\n",
    "x, y = [1, 2]   # x = 1 , y = 2\n",
    "print(x, y)\n",
    "_, y = [1, 2]   # y= 2\n",
    "print(_, y)"
   ]
  },
  {
   "cell_type": "code",
   "execution_count": 75,
   "metadata": {},
   "outputs": [
    {
     "name": "stdout",
     "output_type": "stream",
     "text": [
      "cannot modify a tuple\n",
      "(5, 6) 15 50\n",
      "---------------\n",
      "1 2\n",
      "2 1\n"
     ]
    }
   ],
   "source": [
    "# 元組 (tuple)\n",
    "# 不能修改內容\n",
    "my_list = [1, 2]\n",
    "my_tuple = (1, 2)\n",
    "other_tuple = 3, 4\n",
    "my_list[1] = 3        # my_list become to [1, 3]\n",
    "\n",
    "try:\n",
    "    my_tuple[1] = 3\n",
    "except TypeError:\n",
    "    print(\"cannot modify a tuple\")\n",
    "\n",
    "def sum_and_product(x, y):\n",
    "    return (x + y), (x * y)\n",
    "\n",
    "sp = sum_and_product(2, 3)       # the result equal to (5, 6)\n",
    "s, p = sum_and_product(5, 10)    # s is 15, p is 50\n",
    "print(sp, s, p)\n",
    "\n",
    "# 多重賦值 (multuple assignment)\n",
    "print(\"---------------\")\n",
    "x, y = 1, 2          # now x =1 , y = 2\n",
    "print(x, y)\n",
    "x, y = y, x          # if we change varable value, it's going to inherited python style way, x = 2 , y = 1 \n",
    "print(x, y)"
   ]
  },
  {
   "cell_type": "code",
   "execution_count": 76,
   "metadata": {},
   "outputs": [
    {
     "name": "stdout",
     "output_type": "stream",
     "text": [
      "{'Joel': 80, 'Tim': 95}\n",
      "80\n",
      "no grade for Kate!\n",
      "---------------\n",
      "True\n",
      "False\n",
      "---------------\n",
      "jeols_grade :  0\n",
      "kates_grade :  0\n",
      "no_ones_grades None\n",
      "---------------\n",
      "99\n",
      "100\n",
      "3\n"
     ]
    }
   ],
   "source": [
    "# 字典 (dict)\n",
    "# 對應的 key and value\n",
    "empty_dict = {}                        # it's inherited python style way to compile\n",
    "empty_dict2 = dict()                   # it isn't inherited python style\n",
    "grades = { \"Joel\" : 80, \"Tim\": 95 }    # key is a text of a dictionary\n",
    "print(grades)\n",
    "jeols_grade = grades[\"Joel\"]      # the result eqaul to 80\n",
    "print(jeols_grade)\n",
    "\n",
    "try:\n",
    "    kates_grade = grades[\"kate\"]\n",
    "except KeyError:\n",
    "    print(\"no grade for Kate!\")\n",
    "    \n",
    "# use \"in\" to check it whether exist\n",
    "joel_has_grade = \"Joel\" in grades     # True\n",
    "kates_grade = \"kate\" in grades        # False\n",
    "print(\"---------------\")\n",
    "print(bool(joel_has_grade))\n",
    "print(bool(kates_grade))\n",
    "\n",
    "# if use \"get\", it can return the default value\n",
    "jeols_grade = grades.get(\"Jeol\", 0)     # the result equal to 80\n",
    "kates_grade = grades.get(\"Kate\", 0)     # the result equal to 0\n",
    "no_ones_grades = grades.get(\"No One\")   # if not assign, the default value is none\n",
    "print(\"---------------\")\n",
    "print(\"jeols_grade : \", jeols_grade)\n",
    "print(\"kates_grade : \", kates_grade)\n",
    "print(\"no_ones_grades\", no_ones_grades)\n",
    "\n",
    "# assign key correspond to value, we have to use ()\n",
    "grades[\"Tim\"] = 99            # substitute the last value\n",
    "grades[\"Kate\"] = 100          # add the third item\n",
    "num_students = len(grades)    # the result equal to 3\n",
    "print(\"---------------\")\n",
    "print(grades[\"Tim\"])\n",
    "print(grades[\"Kate\"])\n",
    "print(num_students)"
   ]
  },
  {
   "cell_type": "code",
   "execution_count": 81,
   "metadata": {},
   "outputs": [
    {
     "name": "stdout",
     "output_type": "stream",
     "text": [
      "True\n",
      "True\n",
      "False\n"
     ]
    }
   ],
   "source": [
    "tweet = {\n",
    "    \"user\" : \"joelgrus\",\n",
    "    \"text\" : \"Data Science is Awesome\",\n",
    "    \"retweet_count\" : 100,\n",
    "    \"hashtags\" : [\"#data\", \"#science\", \"#datascience\", \"#awesome\", \"#yolo\"]\n",
    "}\n",
    "\n",
    "tweet_keys = tweet.keys()         # all of keys at the list\n",
    "tweet_values = tweet.values()     # all of values at the list\n",
    "tweet_items = tweet.items()       # all of keys and values component to a tuple\n",
    "\n",
    "\"user\" in tweet_keys              # the result is True, but there \"in\" is checked according to the content of the list \n",
    "\"user\" in tweet                   # it's inherited python style, it aims to \"in\" progress to check \n",
    "\"jeolgrus\" in tweet_values        # the result is True\n",
    "print(bool(\"user\" in tweet_keys))\n",
    "print(bool(\"user\" in tweet))\n",
    "print(bool(\"jeolgrus\" in tweet_values))"
   ]
  },
  {
   "cell_type": "code",
   "execution_count": 89,
   "metadata": {},
   "outputs": [
    {
     "ename": "KeyError",
     "evalue": "'apple'",
     "output_type": "error",
     "traceback": [
      "\u001b[1;31m---------------------------------------------------------------------------\u001b[0m",
      "\u001b[1;31mKeyError\u001b[0m                                  Traceback (most recent call last)",
      "\u001b[1;32m<ipython-input-89-a5aec810b493>\u001b[0m in \u001b[0;36m<module>\u001b[1;34m()\u001b[0m\n\u001b[0;32m     25\u001b[0m     \u001b[1;32mtry\u001b[0m\u001b[1;33m:\u001b[0m\u001b[1;33m\u001b[0m\u001b[0m\n\u001b[1;32m---> 26\u001b[1;33m         \u001b[0mword_counts\u001b[0m\u001b[1;33m[\u001b[0m\u001b[0mword\u001b[0m\u001b[1;33m]\u001b[0m \u001b[1;33m+=\u001b[0m \u001b[1;36m1\u001b[0m\u001b[1;33m\u001b[0m\u001b[0m\n\u001b[0m\u001b[0;32m     27\u001b[0m     \u001b[1;32mexcept\u001b[0m \u001b[0mKeyError\u001b[0m\u001b[1;33m:\u001b[0m\u001b[1;33m\u001b[0m\u001b[0m\n",
      "\u001b[1;31mKeyError\u001b[0m: 'apple'",
      "\nDuring handling of the above exception, another exception occurred:\n",
      "\u001b[1;31mKeyError\u001b[0m                                  Traceback (most recent call last)",
      "\u001b[1;32m<ipython-input-89-a5aec810b493>\u001b[0m in \u001b[0;36m<module>\u001b[1;34m()\u001b[0m\n\u001b[0;32m     26\u001b[0m         \u001b[0mword_counts\u001b[0m\u001b[1;33m[\u001b[0m\u001b[0mword\u001b[0m\u001b[1;33m]\u001b[0m \u001b[1;33m+=\u001b[0m \u001b[1;36m1\u001b[0m\u001b[1;33m\u001b[0m\u001b[0m\n\u001b[0;32m     27\u001b[0m     \u001b[1;32mexcept\u001b[0m \u001b[0mKeyError\u001b[0m\u001b[1;33m:\u001b[0m\u001b[1;33m\u001b[0m\u001b[0m\n\u001b[1;32m---> 28\u001b[1;33m         \u001b[0mword_counts\u001b[0m\u001b[1;33m[\u001b[0m\u001b[0mword\u001b[0m\u001b[1;33m]\u001b[0m \u001b[1;33m+=\u001b[0m \u001b[1;36m1\u001b[0m\u001b[1;33m\u001b[0m\u001b[0m\n\u001b[0m\u001b[0;32m     29\u001b[0m \u001b[1;33m\u001b[0m\u001b[0m\n\u001b[0;32m     30\u001b[0m \u001b[1;31m# third way\u001b[0m\u001b[1;33m\u001b[0m\u001b[1;33m\u001b[0m\u001b[0m\n",
      "\u001b[1;31mKeyError\u001b[0m: 'apple'"
     ]
    }
   ],
   "source": [
    "'''\n",
    "計算整份文件的單詞出現數量\n",
    "'''\n",
    "document = {\n",
    "    \"apple\" : 5,\n",
    "    \"pen\" : 8,\n",
    "    \"car\" : 33,\n",
    "    \"light\" : 15,\n",
    "    \"shoes\" : 19\n",
    "}\n",
    "\n",
    "# first way\n",
    "word_counts = {}\n",
    "for word in document:\n",
    "    if word in word_counts:\n",
    "        word_counts[word] += 1\n",
    "    else:\n",
    "        word_counts[word] = 1\n",
    "\n",
    "# second way\n",
    "# first to do, if it's wrong just to correct\n",
    "# use to try, except\n",
    "word_counts = {}\n",
    "for word in document:\n",
    "    try:\n",
    "        word_counts[word] += 1\n",
    "    except KeyError:\n",
    "        word_counts[word] += 1\n",
    "\n",
    "# third way\n",
    "# if key is disappear\n",
    "# use to \"get\"\n",
    "word_counts = {}\n",
    "for word in document:\n",
    "    previous_count = word_counts.get(word, 0)\n",
    "    word_counts[word] = previous_count + 1"
   ]
  },
  {
   "cell_type": "code",
   "execution_count": 106,
   "metadata": {},
   "outputs": [
    {
     "name": "stdout",
     "output_type": "stream",
     "text": [
      "defaultdict(<class 'list'>, {2: [1]})\n",
      "defaultdict(<class 'dict'>, {'Jeol': {'City': 'Seattle'}})\n",
      "defaultdict(<function <lambda> at 0x000002C3BEB11378>, {2: [0, 1]})\n"
     ]
    }
   ],
   "source": [
    "# defaultdict\n",
    "from collections import defaultdict\n",
    "\n",
    "word_counts = defaultdict(int)             # int() can generate to 0\n",
    "for word in document:\n",
    "    word_counts[word] += 1\n",
    "\n",
    "# use list\n",
    "dd_list = defaultdict(list)                # list() can generate to empty list\n",
    "dd_list[2].append(1)                        # now dd_list inside is {2: [1]}\n",
    "print(dd_list)\n",
    "\n",
    "# use dict                                 # dict() can generate to empty dictionary\n",
    "dd_dict = defaultdict(dict)                # { \"Jeol\" : { \"City\" : \"Seattle\"} }\n",
    "dd_dict[\"Jeol\"][\"City\"] = \"Seattle\"\n",
    "print(dd_dict)\n",
    "\n",
    "dd_pair = defaultdict(lambda: [0, 0])      # now dd_pair inside is {2: [0, 1]}\n",
    "dd_pair[2][1] = 1\n",
    "print(dd_pair)"
   ]
  },
  {
   "cell_type": "code",
   "execution_count": 112,
   "metadata": {},
   "outputs": [
    {
     "name": "stdout",
     "output_type": "stream",
     "text": [
      "Counter({0: 2, 1: 1, 2: 1})\n",
      "---------------\n",
      "['apple', 'car', 'light', 'pen', 'shoes']\n",
      "---------------\n",
      "car 33\n",
      "shoes 19\n",
      "light 15\n",
      "pen 8\n",
      "apple 5\n"
     ]
    }
   ],
   "source": [
    "# Counter\n",
    "# it can a series value change to such as defaultdict(int)\n",
    "from collections import Counter\n",
    "c = Counter([0, 1, 2 ,0])         # c basically is {0 : 2, 1 : 1, 2 : 1} \n",
    "print(c)\n",
    "print(\"---------------\")\n",
    "\n",
    "# if we calculate the quantity words\n",
    "word_counts = Counter(document)\n",
    "print(sorted(word_counts))\n",
    "print(\"---------------\")\n",
    "\n",
    "# use most_common method\n",
    "# The output 10 pcs usually use words,\n",
    "# and these words correspond to it appear how many times\n",
    "for word, count in word_counts.most_common(10):\n",
    "    print(word, count)"
   ]
  },
  {
   "cell_type": "code",
   "execution_count": 115,
   "metadata": {},
   "outputs": [
    {
     "name": "stdout",
     "output_type": "stream",
     "text": [
      "{1}\n",
      "{1, 2}\n",
      "{1, 2} 2 True False\n"
     ]
    }
   ],
   "source": [
    "# 集合 (set)\n",
    "# 各不相同的元素\n",
    "s = set()\n",
    "s.add(1)      # now s is { 1 }\n",
    "print(s)\n",
    "s.add(2)      # now s is { 1 , 2 }\n",
    "print(s)\n",
    "s.add(2)      # s is still { 1 , 2 }\n",
    "\n",
    "x =len(s)     # the result equal to 2\n",
    "y = 2 in s    # the result is True\n",
    "z = 3 in s    # the result is False\n",
    "print(s, x, y, z)"
   ]
  },
  {
   "cell_type": "code",
   "execution_count": 123,
   "metadata": {},
   "outputs": [
    {
     "name": "stdout",
     "output_type": "stream",
     "text": [
      "False\n",
      "False\n",
      "---------------\n",
      "6\n",
      "{1, 2, 3}\n",
      "3\n",
      "[1, 2, 3]\n"
     ]
    }
   ],
   "source": [
    "'''\n",
    "if it aims to \"set\" to operate, we can use \"in\" together fast than alone to use\n",
    "if we want to check everyone element whether it exists, we can use \"set\" fitter than other function\n",
    "'''\n",
    "hundreds_of_other_words = [\"Honda\", \"Nizzan\", \"Mazda\", \"Toyota\"]\n",
    "stopwords_list = [\"a\", \"an\", \"at\"] + hundreds_of_other_words + [\"yet\", \"you\"]\n",
    "\"zip\" in stopwords_list                # the result is False, but it must check everone element\n",
    "print(bool(\"zip\" in stopwords_list))\n",
    "\n",
    "\n",
    "stopwords_set = set(stopwords_list)\n",
    "\"zip\" in stopwords_set                 # check speed is very quickly\n",
    "print(bool(\"zip\" in stopwords_list))\n",
    "print(\"---------------\")\n",
    "\n",
    "\n",
    "# we just attempt to find different items from a large data\n",
    "item_list = [1, 2, 3 , 1, 2, 3]\n",
    "num_items = len(item_list)            # 6\n",
    "print(num_items)\n",
    "\n",
    "item_set = set(item_list)             # {1, 2, 3}\n",
    "print(item_set)\n",
    "\n",
    "num_distinct_items = len(item_set)    # 3\n",
    "print(num_distinct_items)\n",
    "\n",
    "distinct_item_list = list(item_set)   # [1, 2, 3]\n",
    "print(distinct_item_list)"
   ]
  },
  {
   "cell_type": "code",
   "execution_count": 126,
   "metadata": {},
   "outputs": [
    {
     "name": "stdout",
     "output_type": "stream",
     "text": [
      "when all else fails use else (if you want to)\n",
      "---------------\n",
      "0 is less than 10\n",
      "1 is less than 10\n",
      "2 is less than 10\n",
      "3 is less than 10\n",
      "4 is less than 10\n",
      "5 is less than 10\n",
      "6 is less than 10\n",
      "7 is less than 10\n",
      "8 is less than 10\n",
      "9 is less than 10\n",
      "---------------\n",
      "0 is less than 10\n",
      "1 is less than 10\n",
      "2 is less than 10\n",
      "3 is less than 10\n",
      "4 is less than 10\n",
      "5 is less than 10\n",
      "6 is less than 10\n",
      "7 is less than 10\n",
      "8 is less than 10\n",
      "9 is less than 10\n",
      "---------------\n",
      "0\n",
      "1\n",
      "2\n",
      "4\n"
     ]
    }
   ],
   "source": [
    "# 流程控制 control process\n",
    "# use \"if\" condition to judgement\n",
    "if 1 > 2:\n",
    "    message = \"if only 1 were greater than two...\"\n",
    "elif 1 > 3:\n",
    "    message = \"elif stands for 'else if'\"\n",
    "else:\n",
    "    message = \"when all else fails use else (if you want to)\"\n",
    "print(message)\n",
    "print(\"---------------\")\n",
    "    \n",
    "# if-then-else\n",
    "parity = \"even\" if x % 2 == 0 else \"odd\"\n",
    "\n",
    "# while loop\n",
    "x = 0\n",
    "while x < 10:\n",
    "    print(x, \"is less than 10\")\n",
    "    x += 1\n",
    "print(\"---------------\")\n",
    "    \n",
    "    \n",
    "# for and in\n",
    "for x in range(10):\n",
    "    print(x, \"is less than 10\")\n",
    "print(\"---------------\")\n",
    "    \n",
    "# continue and break\n",
    "for x in range(10):\n",
    "    if x == 3:\n",
    "        continue      # it will immediately enter next loop\n",
    "    if x == 5:\n",
    "        break         # it will fully jump the loop\n",
    "    print(x)"
   ]
  },
  {
   "cell_type": "code",
   "execution_count": 149,
   "metadata": {},
   "outputs": [
    {
     "name": "stdout",
     "output_type": "stream",
     "text": [
      "True\n",
      "False\n",
      "True\n",
      "True\n"
     ]
    },
    {
     "ename": "TypeError",
     "evalue": "'list' object is not callable",
     "output_type": "error",
     "traceback": [
      "\u001b[1;31m---------------------------------------------------------------------------\u001b[0m",
      "\u001b[1;31mTypeError\u001b[0m                                 Traceback (most recent call last)",
      "\u001b[1;32m<ipython-input-149-13c9b322463e>\u001b[0m in \u001b[0;36m<module>\u001b[1;34m()\u001b[0m\n\u001b[0;32m     11\u001b[0m \u001b[1;33m\u001b[0m\u001b[0m\n\u001b[0;32m     12\u001b[0m \u001b[1;31m# empty list will bring some trouble\u001b[0m\u001b[1;33m\u001b[0m\u001b[1;33m\u001b[0m\u001b[0m\n\u001b[1;32m---> 13\u001b[1;33m \u001b[0ms\u001b[0m \u001b[1;33m=\u001b[0m \u001b[0msome_function_that_returns_a_string\u001b[0m\u001b[1;33m(\u001b[0m\u001b[1;33m)\u001b[0m\u001b[1;33m\u001b[0m\u001b[0m\n\u001b[0m\u001b[0;32m     14\u001b[0m \u001b[1;32mif\u001b[0m \u001b[0ms\u001b[0m\u001b[1;33m:\u001b[0m\u001b[1;33m\u001b[0m\u001b[0m\n\u001b[0;32m     15\u001b[0m     \u001b[0mfirst_char\u001b[0m \u001b[1;33m=\u001b[0m \u001b[0ms\u001b[0m\u001b[1;33m[\u001b[0m\u001b[1;36m0\u001b[0m\u001b[1;33m]\u001b[0m\u001b[1;33m\u001b[0m\u001b[0m\n",
      "\u001b[1;31mTypeError\u001b[0m: 'list' object is not callable"
     ]
    }
   ],
   "source": [
    "# 布林值 Boolean\n",
    "# 首字的字母要大寫\n",
    "one_is_less_than_two = 1 < 2          # the result is True\n",
    "print(one_is_less_than_two)\n",
    "true_equals_false = True == False     # the result is False\n",
    "print(true_equals_false)\n",
    "\n",
    "x = None\n",
    "print(x == None)    # the result is True\n",
    "print(x is None)    # the result is True, it's inherited python style\n",
    "\n",
    "# empty list will bring some trouble\n",
    "s = some_function_that_returns_a_string()\n",
    "if s:\n",
    "    first_char = s[0]\n",
    "else:\n",
    "    first_char = \"\"\n",
    "print(s)\n",
    "\n",
    "# if s is True will return s[0], if s is False will return s\n",
    "first_char = s and s[0]\n",
    "print(first_char)"
   ]
  },
  {
   "cell_type": "code",
   "execution_count": 150,
   "metadata": {},
   "outputs": [
    {
     "name": "stdout",
     "output_type": "stream",
     "text": [
      "0\n",
      "True\n",
      "False\n",
      "True\n",
      "True\n",
      "False\n"
     ]
    }
   ],
   "source": [
    "# if x is not numeric, it will be None \n",
    "safe_x = x or 0\n",
    "print(safe_x)\n",
    "\n",
    "# all() and any()\n",
    "all([True, 1, { 3 }])      # the result is True\n",
    "print(all([True, 1, { 3 }]))\n",
    "\n",
    "all([True, 1, {}])         # the result is False, because {} is represent False\n",
    "print(all([True, 1, {}]))\n",
    "\n",
    "any([True, 1, {}])         # the result is True\n",
    "print(any([True, 1, {}]))\n",
    "\n",
    "all([])                    # the result is True, because everyone element is not represent False at list\n",
    "print(all([]))\n",
    "\n",
    "any([])                    # the result is False, because everyone element is not represent True at list\n",
    "print(any([]))"
   ]
  }
 ],
 "metadata": {
  "kernelspec": {
   "display_name": "Python 3",
   "language": "python",
   "name": "python3"
  },
  "language_info": {
   "codemirror_mode": {
    "name": "ipython",
    "version": 3
   },
   "file_extension": ".py",
   "mimetype": "text/x-python",
   "name": "python",
   "nbconvert_exporter": "python",
   "pygments_lexer": "ipython3",
   "version": "3.6.3"
  }
 },
 "nbformat": 4,
 "nbformat_minor": 2
}
