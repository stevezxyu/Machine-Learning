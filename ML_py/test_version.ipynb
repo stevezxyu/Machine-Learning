{
 "cells": [
  {
   "cell_type": "code",
   "execution_count": 5,
   "metadata": {},
   "outputs": [
    {
     "name": "stdout",
     "output_type": "stream",
     "text": [
      "Python version: 3.6.3 |Anaconda custom (64-bit)| (default, Oct  6 2017, 12:04:38) \n",
      "[GCC 4.2.1 Compatible Clang 4.0.1 (tags/RELEASE_401/final)]\n",
      "============================\n",
      "pandas version: 0.20.3\n",
      "============================\n",
      "matplotlib version: 2.1.0\n",
      "============================\n",
      "numpy version: 1.13.3\n",
      "============================\n",
      "scipy version: 0.19.1\n",
      "============================\n",
      "IPython version: 6.1.0\n",
      "============================\n",
      "sklearn version: 0.19.1\n",
      "============================\n",
      "mglearn version: 0.1.6\n"
     ]
    }
   ],
   "source": [
    "import sys\n",
    "print(\"Python version: {}\".format(sys.version))\n",
    "print(\"============================\")\n",
    "import pandas as pd\n",
    "print(\"pandas version: {}\".format(pd.__version__))\n",
    "print(\"============================\")\n",
    "import matplotlib\n",
    "print(\"matplotlib version: {}\".format(matplotlib.__version__))\n",
    "print(\"============================\")\n",
    "import numpy as np\n",
    "print(\"numpy version: {}\".format(np.__version__))\n",
    "print(\"============================\")\n",
    "import scipy as sp\n",
    "print(\"scipy version: {}\".format(sp.__version__))\n",
    "print(\"============================\")\n",
    "import IPython\n",
    "print(\"IPython version: {}\".format(IPython.__version__))\n",
    "print(\"============================\")\n",
    "import sklearn\n",
    "print(\"sklearn version: {}\".format(sklearn.__version__))\n",
    "print(\"============================\")\n",
    "import mglearn\n",
    "print(\"mglearn version: {}\".format(mglearn.__version__))"
   ]
  }
 ],
 "metadata": {
  "kernelspec": {
   "display_name": "Python 3",
   "language": "python",
   "name": "python3"
  },
  "language_info": {
   "codemirror_mode": {
    "name": "ipython",
    "version": 3
   },
   "file_extension": ".py",
   "mimetype": "text/x-python",
   "name": "python",
   "nbconvert_exporter": "python",
   "pygments_lexer": "ipython3",
   "version": "3.6.3"
  }
 },
 "nbformat": 4,
 "nbformat_minor": 2
}
